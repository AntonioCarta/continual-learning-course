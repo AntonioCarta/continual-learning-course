{
 "cells": [
  {
   "cell_type": "markdown",
   "metadata": {
    "pycharm": {
     "name": "#%% md\n"
    }
   },
   "source": [
    "## 🤝 Run it on Google Colab\n",
    "\n",
    "You can run _this chapter_ and play with it on Google Colaboratory: [![Open In Colab](https://colab.research.google.com/assets/colab-badge.svg)](https://colab.research.google.com/github/AntonioCarta/avalanche-demo/blob/main/avl_e2e.ipynb)\n",
    "\n",
    "https://github.com/AntonioCarta/avalanche-demo/blob/main/avl_e2e.ipynb"
   ]
  },
  {
   "cell_type": "markdown",
   "metadata": {
    "pycharm": {
     "name": "#%% md\n"
    }
   },
   "source": [
    "# Avalanche End-to-End Exampe\n",
    "\n",
    "A basic example using Avalanche.\n",
    "\n",
    "First, let's install Avalanche. You can skip this step if you have installed it already."
   ]
  },
  {
   "cell_type": "code",
   "execution_count": 1,
   "metadata": {
    "pycharm": {
     "name": "#%%\n"
    }
   },
   "outputs": [
    {
     "name": "stdout",
     "output_type": "stream",
     "text": [
      "Requirement already satisfied: avalanche-lib==0.3.1 in c:\\users\\w-32\\anaconda3\\envs\\avl03\\lib\\site-packages (0.3.1)\n",
      "Requirement already satisfied: matplotlib in c:\\users\\w-32\\anaconda3\\envs\\avl03\\lib\\site-packages (from avalanche-lib==0.3.1) (3.6.2)\n",
      "Requirement already satisfied: torchmetrics in c:\\users\\w-32\\anaconda3\\envs\\avl03\\lib\\site-packages (from avalanche-lib==0.3.1) (0.11.0)\n",
      "Requirement already satisfied: pytorchcv in c:\\users\\w-32\\anaconda3\\envs\\avl03\\lib\\site-packages (from avalanche-lib==0.3.1) (0.0.67)\n",
      "Requirement already satisfied: scikit-learn in c:\\users\\w-32\\anaconda3\\envs\\avl03\\lib\\site-packages (from avalanche-lib==0.3.1) (1.2.0)\n",
      "Requirement already satisfied: wandb in c:\\users\\w-32\\anaconda3\\envs\\avl03\\lib\\site-packages (from avalanche-lib==0.3.1) (0.13.6)\n",
      "Requirement already satisfied: tensorboard>=1.15 in c:\\users\\w-32\\anaconda3\\envs\\avl03\\lib\\site-packages (from avalanche-lib==0.3.1) (2.11.0)\n",
      "Requirement already satisfied: quadprog in c:\\users\\w-32\\anaconda3\\envs\\avl03\\lib\\site-packages (from avalanche-lib==0.3.1) (0.1.11)\n",
      "Collecting setuptools<=59.5.0\n",
      "  Using cached setuptools-59.5.0-py3-none-any.whl (952 kB)\n",
      "Requirement already satisfied: typing-extensions in c:\\users\\w-32\\anaconda3\\envs\\avl03\\lib\\site-packages (from avalanche-lib==0.3.1) (4.4.0)\n",
      "Requirement already satisfied: torch in c:\\users\\w-32\\anaconda3\\envs\\avl03\\lib\\site-packages (from avalanche-lib==0.3.1) (1.13.0)\n",
      "Requirement already satisfied: tqdm in c:\\users\\w-32\\anaconda3\\envs\\avl03\\lib\\site-packages (from avalanche-lib==0.3.1) (4.64.1)\n",
      "Requirement already satisfied: numpy in c:\\users\\w-32\\anaconda3\\envs\\avl03\\lib\\site-packages (from avalanche-lib==0.3.1) (1.23.5)\n",
      "Requirement already satisfied: gputil in c:\\users\\w-32\\anaconda3\\envs\\avl03\\lib\\site-packages (from avalanche-lib==0.3.1) (1.4.0)\n",
      "Requirement already satisfied: torchvision in c:\\users\\w-32\\anaconda3\\envs\\avl03\\lib\\site-packages (from avalanche-lib==0.3.1) (0.14.0)\n",
      "Requirement already satisfied: dill in c:\\users\\w-32\\anaconda3\\envs\\avl03\\lib\\site-packages (from avalanche-lib==0.3.1) (0.3.6)\n",
      "Requirement already satisfied: psutil in c:\\users\\w-32\\anaconda3\\envs\\avl03\\lib\\site-packages (from avalanche-lib==0.3.1) (5.9.4)\n",
      "Requirement already satisfied: gdown in c:\\users\\w-32\\anaconda3\\envs\\avl03\\lib\\site-packages (from avalanche-lib==0.3.1) (4.6.0)\n",
      "Requirement already satisfied: protobuf<4,>=3.9.2 in c:\\users\\w-32\\anaconda3\\envs\\avl03\\lib\\site-packages (from tensorboard>=1.15->avalanche-lib==0.3.1) (3.20.3)\n",
      "Requirement already satisfied: google-auth<3,>=1.6.3 in c:\\users\\w-32\\anaconda3\\envs\\avl03\\lib\\site-packages (from tensorboard>=1.15->avalanche-lib==0.3.1) (2.15.0)\n",
      "Requirement already satisfied: markdown>=2.6.8 in c:\\users\\w-32\\anaconda3\\envs\\avl03\\lib\\site-packages (from tensorboard>=1.15->avalanche-lib==0.3.1) (3.4.1)\n",
      "Requirement already satisfied: tensorboard-plugin-wit>=1.6.0 in c:\\users\\w-32\\anaconda3\\envs\\avl03\\lib\\site-packages (from tensorboard>=1.15->avalanche-lib==0.3.1) (1.8.1)\n",
      "Requirement already satisfied: wheel>=0.26 in c:\\users\\w-32\\anaconda3\\envs\\avl03\\lib\\site-packages (from tensorboard>=1.15->avalanche-lib==0.3.1) (0.37.1)\n",
      "Requirement already satisfied: absl-py>=0.4 in c:\\users\\w-32\\anaconda3\\envs\\avl03\\lib\\site-packages (from tensorboard>=1.15->avalanche-lib==0.3.1) (1.3.0)\n",
      "Requirement already satisfied: grpcio>=1.24.3 in c:\\users\\w-32\\anaconda3\\envs\\avl03\\lib\\site-packages (from tensorboard>=1.15->avalanche-lib==0.3.1) (1.51.1)\n",
      "Requirement already satisfied: google-auth-oauthlib<0.5,>=0.4.1 in c:\\users\\w-32\\anaconda3\\envs\\avl03\\lib\\site-packages (from tensorboard>=1.15->avalanche-lib==0.3.1) (0.4.6)\n",
      "Requirement already satisfied: tensorboard-data-server<0.7.0,>=0.6.0 in c:\\users\\w-32\\anaconda3\\envs\\avl03\\lib\\site-packages (from tensorboard>=1.15->avalanche-lib==0.3.1) (0.6.1)\n",
      "Requirement already satisfied: requests<3,>=2.21.0 in c:\\users\\w-32\\anaconda3\\envs\\avl03\\lib\\site-packages (from tensorboard>=1.15->avalanche-lib==0.3.1) (2.28.1)\n",
      "Requirement already satisfied: werkzeug>=1.0.1 in c:\\users\\w-32\\anaconda3\\envs\\avl03\\lib\\site-packages (from tensorboard>=1.15->avalanche-lib==0.3.1) (2.2.2)\n",
      "Requirement already satisfied: filelock in c:\\users\\w-32\\anaconda3\\envs\\avl03\\lib\\site-packages (from gdown->avalanche-lib==0.3.1) (3.8.2)\n",
      "Requirement already satisfied: six in c:\\users\\w-32\\anaconda3\\envs\\avl03\\lib\\site-packages (from gdown->avalanche-lib==0.3.1) (1.16.0)\n",
      "Requirement already satisfied: beautifulsoup4 in c:\\users\\w-32\\anaconda3\\envs\\avl03\\lib\\site-packages (from gdown->avalanche-lib==0.3.1) (4.11.1)\n",
      "Requirement already satisfied: kiwisolver>=1.0.1 in c:\\users\\w-32\\anaconda3\\envs\\avl03\\lib\\site-packages (from matplotlib->avalanche-lib==0.3.1) (1.4.4)\n",
      "Requirement already satisfied: cycler>=0.10 in c:\\users\\w-32\\anaconda3\\envs\\avl03\\lib\\site-packages (from matplotlib->avalanche-lib==0.3.1) (0.11.0)\n",
      "Requirement already satisfied: pillow>=6.2.0 in c:\\users\\w-32\\anaconda3\\envs\\avl03\\lib\\site-packages (from matplotlib->avalanche-lib==0.3.1) (9.3.0)\n",
      "Requirement already satisfied: contourpy>=1.0.1 in c:\\users\\w-32\\anaconda3\\envs\\avl03\\lib\\site-packages (from matplotlib->avalanche-lib==0.3.1) (1.0.6)\n",
      "Requirement already satisfied: pyparsing>=2.2.1 in c:\\users\\w-32\\anaconda3\\envs\\avl03\\lib\\site-packages (from matplotlib->avalanche-lib==0.3.1) (3.0.9)\n",
      "Requirement already satisfied: fonttools>=4.22.0 in c:\\users\\w-32\\anaconda3\\envs\\avl03\\lib\\site-packages (from matplotlib->avalanche-lib==0.3.1) (4.38.0)\n",
      "Requirement already satisfied: packaging>=20.0 in c:\\users\\w-32\\anaconda3\\envs\\avl03\\lib\\site-packages (from matplotlib->avalanche-lib==0.3.1) (22.0)\n",
      "Requirement already satisfied: python-dateutil>=2.7 in c:\\users\\w-32\\anaconda3\\envs\\avl03\\lib\\site-packages (from matplotlib->avalanche-lib==0.3.1) (2.8.2)\n",
      "Requirement already satisfied: threadpoolctl>=2.0.0 in c:\\users\\w-32\\anaconda3\\envs\\avl03\\lib\\site-packages (from scikit-learn->avalanche-lib==0.3.1) (3.1.0)\n",
      "Requirement already satisfied: joblib>=1.1.1 in c:\\users\\w-32\\anaconda3\\envs\\avl03\\lib\\site-packages (from scikit-learn->avalanche-lib==0.3.1) (1.2.0)\n",
      "Requirement already satisfied: scipy>=1.3.2 in c:\\users\\w-32\\anaconda3\\envs\\avl03\\lib\\site-packages (from scikit-learn->avalanche-lib==0.3.1) (1.9.3)\n",
      "Requirement already satisfied: colorama in c:\\users\\w-32\\anaconda3\\envs\\avl03\\lib\\site-packages (from tqdm->avalanche-lib==0.3.1) (0.4.6)\n",
      "Requirement already satisfied: docker-pycreds>=0.4.0 in c:\\users\\w-32\\anaconda3\\envs\\avl03\\lib\\site-packages (from wandb->avalanche-lib==0.3.1) (0.4.0)\n",
      "Requirement already satisfied: PyYAML in c:\\users\\w-32\\anaconda3\\envs\\avl03\\lib\\site-packages (from wandb->avalanche-lib==0.3.1) (6.0)\n",
      "Requirement already satisfied: promise<3,>=2.0 in c:\\users\\w-32\\anaconda3\\envs\\avl03\\lib\\site-packages (from wandb->avalanche-lib==0.3.1) (2.3)\n",
      "Requirement already satisfied: shortuuid>=0.5.0 in c:\\users\\w-32\\anaconda3\\envs\\avl03\\lib\\site-packages (from wandb->avalanche-lib==0.3.1) (1.0.11)\n",
      "Requirement already satisfied: Click!=8.0.0,>=7.0 in c:\\users\\w-32\\anaconda3\\envs\\avl03\\lib\\site-packages (from wandb->avalanche-lib==0.3.1) (8.1.3)\n",
      "Requirement already satisfied: setproctitle in c:\\users\\w-32\\anaconda3\\envs\\avl03\\lib\\site-packages (from wandb->avalanche-lib==0.3.1) (1.3.2)\n",
      "Requirement already satisfied: GitPython>=1.0.0 in c:\\users\\w-32\\anaconda3\\envs\\avl03\\lib\\site-packages (from wandb->avalanche-lib==0.3.1) (3.1.29)\n",
      "Requirement already satisfied: pathtools in c:\\users\\w-32\\anaconda3\\envs\\avl03\\lib\\site-packages (from wandb->avalanche-lib==0.3.1) (0.1.2)\n",
      "Requirement already satisfied: sentry-sdk>=1.0.0 in c:\\users\\w-32\\anaconda3\\envs\\avl03\\lib\\site-packages (from wandb->avalanche-lib==0.3.1) (1.11.1)\n",
      "Requirement already satisfied: gitdb<5,>=4.0.1 in c:\\users\\w-32\\anaconda3\\envs\\avl03\\lib\\site-packages (from GitPython>=1.0.0->wandb->avalanche-lib==0.3.1) (4.0.10)\n",
      "Requirement already satisfied: cachetools<6.0,>=2.0.0 in c:\\users\\w-32\\anaconda3\\envs\\avl03\\lib\\site-packages (from google-auth<3,>=1.6.3->tensorboard>=1.15->avalanche-lib==0.3.1) (5.2.0)\n",
      "Requirement already satisfied: pyasn1-modules>=0.2.1 in c:\\users\\w-32\\anaconda3\\envs\\avl03\\lib\\site-packages (from google-auth<3,>=1.6.3->tensorboard>=1.15->avalanche-lib==0.3.1) (0.2.8)\n",
      "Requirement already satisfied: rsa<5,>=3.1.4 in c:\\users\\w-32\\anaconda3\\envs\\avl03\\lib\\site-packages (from google-auth<3,>=1.6.3->tensorboard>=1.15->avalanche-lib==0.3.1) (4.9)\n",
      "Requirement already satisfied: requests-oauthlib>=0.7.0 in c:\\users\\w-32\\anaconda3\\envs\\avl03\\lib\\site-packages (from google-auth-oauthlib<0.5,>=0.4.1->tensorboard>=1.15->avalanche-lib==0.3.1) (1.3.1)\n",
      "Requirement already satisfied: idna<4,>=2.5 in c:\\users\\w-32\\anaconda3\\envs\\avl03\\lib\\site-packages (from requests<3,>=2.21.0->tensorboard>=1.15->avalanche-lib==0.3.1) (3.4)\n",
      "Requirement already satisfied: urllib3<1.27,>=1.21.1 in c:\\users\\w-32\\anaconda3\\envs\\avl03\\lib\\site-packages (from requests<3,>=2.21.0->tensorboard>=1.15->avalanche-lib==0.3.1) (1.26.14)\n",
      "Requirement already satisfied: certifi>=2017.4.17 in c:\\users\\w-32\\anaconda3\\envs\\avl03\\lib\\site-packages (from requests<3,>=2.21.0->tensorboard>=1.15->avalanche-lib==0.3.1) (2022.9.24)\n",
      "Requirement already satisfied: charset-normalizer<3,>=2 in c:\\users\\w-32\\anaconda3\\envs\\avl03\\lib\\site-packages (from requests<3,>=2.21.0->tensorboard>=1.15->avalanche-lib==0.3.1) (2.1.1)\n",
      "Requirement already satisfied: MarkupSafe>=2.1.1 in c:\\users\\w-32\\anaconda3\\envs\\avl03\\lib\\site-packages (from werkzeug>=1.0.1->tensorboard>=1.15->avalanche-lib==0.3.1) (2.1.1)\n",
      "Requirement already satisfied: soupsieve>1.2 in c:\\users\\w-32\\anaconda3\\envs\\avl03\\lib\\site-packages (from beautifulsoup4->gdown->avalanche-lib==0.3.1) (2.3.2.post1)\n",
      "Requirement already satisfied: PySocks!=1.5.7,>=1.5.6 in c:\\users\\w-32\\anaconda3\\envs\\avl03\\lib\\site-packages (from requests<3,>=2.21.0->tensorboard>=1.15->avalanche-lib==0.3.1) (1.7.1)\n",
      "Requirement already satisfied: smmap<6,>=3.0.1 in c:\\users\\w-32\\anaconda3\\envs\\avl03\\lib\\site-packages (from gitdb<5,>=4.0.1->GitPython>=1.0.0->wandb->avalanche-lib==0.3.1) (5.0.0)\n",
      "Requirement already satisfied: pyasn1<0.5.0,>=0.4.6 in c:\\users\\w-32\\anaconda3\\envs\\avl03\\lib\\site-packages (from pyasn1-modules>=0.2.1->google-auth<3,>=1.6.3->tensorboard>=1.15->avalanche-lib==0.3.1) (0.4.8)\n",
      "Requirement already satisfied: oauthlib>=3.0.0 in c:\\users\\w-32\\anaconda3\\envs\\avl03\\lib\\site-packages (from requests-oauthlib>=0.7.0->google-auth-oauthlib<0.5,>=0.4.1->tensorboard>=1.15->avalanche-lib==0.3.1) (3.2.2)\n",
      "Installing collected packages: setuptools\n",
      "  Attempting uninstall: setuptools\n",
      "    Found existing installation: setuptools 65.6.3\n",
      "    Uninstalling setuptools-65.6.3:\n",
      "      Successfully uninstalled setuptools-65.6.3\n",
      "Successfully installed setuptools-59.5.0\n"
     ]
    }
   ],
   "source": [
    "!pip install avalanche-lib==0.3.1"
   ]
  },
  {
   "cell_type": "markdown",
   "metadata": {
    "pycharm": {
     "name": "#%% md\n"
    }
   },
   "source": [
    "## Benchmarks"
   ]
  },
  {
   "cell_type": "markdown",
   "metadata": {},
   "source": [
    "you can import benchmarks from the `avl.benchmarks` module.\n",
    "We use task-aware SplitMNIST."
   ]
  },
  {
   "cell_type": "code",
   "execution_count": 13,
   "metadata": {},
   "outputs": [
    {
     "name": "stdout",
     "output_type": "stream",
     "text": [
      "len train: 5, len test: 5\n",
      "(0) - T0, classes=[5, 6]\n",
      "(1) - T1, classes=[1, 2]\n",
      "(2) - T2, classes=[0, 8]\n",
      "(3) - T3, classes=[9, 3]\n",
      "(4) - T4, classes=[4, 7]\n"
     ]
    }
   ],
   "source": [
    "from avalanche.benchmarks import SplitMNIST\n",
    "\n",
    "benchmark = SplitMNIST(\n",
    "    n_experiences=5,\n",
    "    return_task_id=True,\n",
    "    seed=1\n",
    ")\n",
    "train_stream = benchmark.train_stream\n",
    "test_stream = benchmark.test_stream\n",
    "\n",
    "print(f\"len train: {len(train_stream)}, len test: {len(test_stream)}\")\n",
    "\n",
    "for exp in train_stream:\n",
    "    eid = exp.current_experience\n",
    "    curr_classes = exp.classes_in_this_experience\n",
    "    tid = exp.task_label\n",
    "    print(f\"({eid}) - T{tid}, classes={curr_classes}\")"
   ]
  },
  {
   "cell_type": "markdown",
   "metadata": {},
   "source": [
    "# Multi-Head Model\n",
    "we use a multihead model:\n",
    "- shared feature extractor\n",
    "- one classification head for each task (created on-demand)"
   ]
  },
  {
   "cell_type": "code",
   "execution_count": 14,
   "metadata": {},
   "outputs": [
    {
     "name": "stdout",
     "output_type": "stream",
     "text": [
      "MultiTaskDecorator(\n",
      "  (model): MLP(\n",
      "    (features): Sequential(\n",
      "      (0): Linear(in_features=784, out_features=512, bias=True)\n",
      "      (1): ReLU()\n",
      "      (2): Linear(in_features=512, out_features=512, bias=True)\n",
      "      (3): ReLU()\n",
      "    )\n",
      "    (classifier): Sequential()\n",
      "  )\n",
      "  (classifier): MultiHeadClassifier(\n",
      "    (classifiers): ModuleDict(\n",
      "      (0): IncrementalClassifier(\n",
      "        (classifier): Linear(in_features=512, out_features=10, bias=True)\n",
      "      )\n",
      "    )\n",
      "  )\n",
      ")\n"
     ]
    }
   ],
   "source": [
    "import torch\n",
    "from torch import nn\n",
    "from avalanche.models import as_multitask\n",
    "\n",
    "class MLP(nn.Module):\n",
    "    def __init__(self):\n",
    "        super().__init__()\n",
    "        self.features = nn.Sequential(\n",
    "            nn.Linear(784, 512),\n",
    "            nn.ReLU(),\n",
    "            nn.Linear(512, 512),\n",
    "            nn.ReLU()\n",
    "        )\n",
    "        self.classifier = nn.Linear(512, 10)\n",
    "    \n",
    "    def forward(self, x, **kwargs):\n",
    "        x = x.reshape(x.shape[0], -1)\n",
    "        x = self.features(x)\n",
    "        return self.classifier(x)\n",
    "    \n",
    "model = MLP()\n",
    "model = as_multitask(MLP(), 'classifier')\n",
    "print(model)"
   ]
  },
  {
   "cell_type": "markdown",
   "metadata": {},
   "source": [
    "# Device, Optimizer, Criterion\n",
    "these are pytorch objects"
   ]
  },
  {
   "cell_type": "code",
   "execution_count": 16,
   "metadata": {},
   "outputs": [],
   "source": [
    "from torch.optim import SGD\n",
    "\n",
    "device = torch.device(\"cuda:0\" if torch.cuda.is_available() else \"cpu\")\n",
    "optimizer = SGD(model.parameters(), lr=0.001, momentum=0.9)\n",
    "criterion = torch.nn.CrossEntropyLoss()"
   ]
  },
  {
   "cell_type": "markdown",
   "metadata": {},
   "source": [
    "# EvaluationPlugin\n",
    "choose the metrics and loggers"
   ]
  },
  {
   "cell_type": "code",
   "execution_count": 17,
   "metadata": {},
   "outputs": [],
   "source": [
    "from avalanche.evaluation.metrics import accuracy_metrics, timing_metrics\n",
    "from avalanche.logging import InteractiveLogger\n",
    "from avalanche.training.plugins import EvaluationPlugin\n",
    "\n",
    "# print to stdout\n",
    "interactive_logger = InteractiveLogger()\n",
    "\n",
    "eval_plugin = EvaluationPlugin(\n",
    "    accuracy_metrics(epoch=True, experience=True, stream=True),\n",
    "    timing_metrics(epoch=True),\n",
    "    loggers=[interactive_logger]\n",
    ")"
   ]
  },
  {
   "cell_type": "markdown",
   "metadata": {},
   "source": [
    "# CL Strategy"
   ]
  },
  {
   "cell_type": "code",
   "execution_count": 18,
   "metadata": {},
   "outputs": [],
   "source": [
    "from avalanche.training import Naive\n",
    "\n",
    "cl_strategy = Naive(\n",
    "    model, optimizer, criterion, \n",
    "    train_mb_size=32, train_epochs=2,\n",
    "    eval_mb_size=32, device=device,\n",
    "    evaluator=eval_plugin\n",
    ")"
   ]
  },
  {
   "cell_type": "markdown",
   "metadata": {},
   "source": [
    "# Training and Evaluation Loop"
   ]
  },
  {
   "cell_type": "code",
   "execution_count": 19,
   "metadata": {
    "scrolled": true
   },
   "outputs": [
    {
     "name": "stdout",
     "output_type": "stream",
     "text": [
      "-- >> Start of training phase << --\n",
      "100%|████████████████████████████████████████████████████████████████████████████████| 355/355 [00:05<00:00, 66.27it/s]\n",
      "Epoch 0 ended.\n",
      "\tTime_Epoch/train_phase/train_stream/Task000 = 5.3570\n",
      "\tTop1_Acc_Epoch/train_phase/train_stream/Task000 = 0.9548\n",
      "100%|████████████████████████████████████████████████████████████████████████████████| 355/355 [00:05<00:00, 61.00it/s]\n",
      "Epoch 1 ended.\n",
      "\tTime_Epoch/train_phase/train_stream/Task000 = 5.8202\n",
      "\tTop1_Acc_Epoch/train_phase/train_stream/Task000 = 0.9795\n",
      "-- >> End of training phase << --\n",
      "-- >> Start of eval phase << --\n",
      "-- Starting eval on experience 0 (Task 0) from test stream --\n",
      "100%|██████████████████████████████████████████████████████████████████████████████████| 58/58 [00:00<00:00, 89.23it/s]\n",
      "> Eval on experience 0 (Task 0) from test stream ended.\n",
      "\tTop1_Acc_Exp/eval_phase/test_stream/Task000/Exp000 = 0.9832\n",
      "-- Starting eval on experience 1 (Task 1) from test stream --\n",
      "100%|██████████████████████████████████████████████████████████████████████████████████| 68/68 [00:00<00:00, 89.95it/s]\n",
      "> Eval on experience 1 (Task 1) from test stream ended.\n",
      "\tTop1_Acc_Exp/eval_phase/test_stream/Task001/Exp001 = 0.0000\n",
      "-- Starting eval on experience 2 (Task 2) from test stream --\n",
      "100%|██████████████████████████████████████████████████████████████████████████████████| 62/62 [00:00<00:00, 89.34it/s]\n",
      "> Eval on experience 2 (Task 2) from test stream ended.\n",
      "\tTop1_Acc_Exp/eval_phase/test_stream/Task002/Exp002 = 0.5015\n",
      "-- Starting eval on experience 3 (Task 3) from test stream --\n",
      "100%|██████████████████████████████████████████████████████████████████████████████████| 64/64 [00:00<00:00, 88.77it/s]\n",
      "> Eval on experience 3 (Task 3) from test stream ended.\n",
      "\tTop1_Acc_Exp/eval_phase/test_stream/Task003/Exp003 = 0.0000\n",
      "-- Starting eval on experience 4 (Task 4) from test stream --\n",
      "100%|██████████████████████████████████████████████████████████████████████████████████| 63/63 [00:00<00:00, 91.44it/s]\n",
      "> Eval on experience 4 (Task 4) from test stream ended.\n",
      "\tTop1_Acc_Exp/eval_phase/test_stream/Task004/Exp004 = 0.0000\n",
      "-- >> End of eval phase << --\n",
      "\tTop1_Acc_Stream/eval_phase/test_stream/Task004 = 0.2799\n",
      "-- >> Start of training phase << --\n",
      "100%|████████████████████████████████████████████████████████████████████████████████| 397/397 [00:06<00:00, 62.64it/s]\n",
      "Epoch 0 ended.\n",
      "\tTime_Epoch/train_phase/train_stream/Task001 = 6.3376\n",
      "\tTop1_Acc_Epoch/train_phase/train_stream/Task001 = 0.9739\n",
      "100%|████████████████████████████████████████████████████████████████████████████████| 397/397 [00:06<00:00, 63.32it/s]\n",
      "Epoch 1 ended.\n",
      "\tTime_Epoch/train_phase/train_stream/Task001 = 6.2709\n",
      "\tTop1_Acc_Epoch/train_phase/train_stream/Task001 = 0.9896\n",
      "-- >> End of training phase << --\n",
      "-- >> Start of eval phase << --\n",
      "-- Starting eval on experience 0 (Task 0) from test stream --\n",
      "100%|██████████████████████████████████████████████████████████████████████████████████| 58/58 [00:00<00:00, 95.55it/s]\n",
      "> Eval on experience 0 (Task 0) from test stream ended.\n",
      "\tTop1_Acc_Exp/eval_phase/test_stream/Task000/Exp000 = 0.9357\n",
      "-- Starting eval on experience 1 (Task 1) from test stream --\n",
      "100%|██████████████████████████████████████████████████████████████████████████████████| 68/68 [00:00<00:00, 94.97it/s]\n",
      "> Eval on experience 1 (Task 1) from test stream ended.\n",
      "\tTop1_Acc_Exp/eval_phase/test_stream/Task001/Exp001 = 0.9908\n",
      "-- Starting eval on experience 2 (Task 2) from test stream --\n",
      "100%|██████████████████████████████████████████████████████████████████████████████████| 62/62 [00:00<00:00, 95.68it/s]\n",
      "> Eval on experience 2 (Task 2) from test stream ended.\n",
      "\tTop1_Acc_Exp/eval_phase/test_stream/Task002/Exp002 = 0.5015\n",
      "-- Starting eval on experience 3 (Task 3) from test stream --\n",
      "100%|██████████████████████████████████████████████████████████████████████████████████| 64/64 [00:00<00:00, 99.38it/s]\n",
      "> Eval on experience 3 (Task 3) from test stream ended.\n",
      "\tTop1_Acc_Exp/eval_phase/test_stream/Task003/Exp003 = 0.0000\n",
      "-- Starting eval on experience 4 (Task 4) from test stream --\n",
      "100%|█████████████████████████████████████████████████████████████████████████████████| 63/63 [00:00<00:00, 104.13it/s]\n",
      "> Eval on experience 4 (Task 4) from test stream ended.\n",
      "\tTop1_Acc_Exp/eval_phase/test_stream/Task004/Exp004 = 0.0000\n",
      "-- >> End of eval phase << --\n",
      "\tTop1_Acc_Stream/eval_phase/test_stream/Task004 = 0.4858\n",
      "-- >> Start of training phase << --\n",
      "100%|████████████████████████████████████████████████████████████████████████████████| 368/368 [00:05<00:00, 65.68it/s]\n",
      "Epoch 0 ended.\n",
      "\tTime_Epoch/train_phase/train_stream/Task002 = 5.6033\n",
      "\tTop1_Acc_Epoch/train_phase/train_stream/Task002 = 0.9644\n",
      "100%|████████████████████████████████████████████████████████████████████████████████| 368/368 [00:05<00:00, 69.78it/s]\n",
      "Epoch 1 ended.\n",
      "\tTime_Epoch/train_phase/train_stream/Task002 = 5.2740\n",
      "\tTop1_Acc_Epoch/train_phase/train_stream/Task002 = 0.9906\n",
      "-- >> End of training phase << --\n",
      "-- >> Start of eval phase << --\n",
      "-- Starting eval on experience 0 (Task 0) from test stream --\n",
      "100%|█████████████████████████████████████████████████████████████████████████████████| 58/58 [00:00<00:00, 102.66it/s]\n",
      "> Eval on experience 0 (Task 0) from test stream ended.\n",
      "\tTop1_Acc_Exp/eval_phase/test_stream/Task000/Exp000 = 0.9476\n",
      "-- Starting eval on experience 1 (Task 1) from test stream --\n",
      "100%|█████████████████████████████████████████████████████████████████████████████████| 68/68 [00:00<00:00, 102.10it/s]\n",
      "> Eval on experience 1 (Task 1) from test stream ended.\n",
      "\tTop1_Acc_Exp/eval_phase/test_stream/Task001/Exp001 = 0.9622\n",
      "-- Starting eval on experience 2 (Task 2) from test stream --\n",
      "100%|█████████████████████████████████████████████████████████████████████████████████| 62/62 [00:00<00:00, 103.50it/s]\n",
      "> Eval on experience 2 (Task 2) from test stream ended.\n",
      "\tTop1_Acc_Exp/eval_phase/test_stream/Task002/Exp002 = 0.9933\n",
      "-- Starting eval on experience 3 (Task 3) from test stream --\n",
      "100%|█████████████████████████████████████████████████████████████████████████████████| 64/64 [00:00<00:00, 107.20it/s]\n",
      "> Eval on experience 3 (Task 3) from test stream ended.\n",
      "\tTop1_Acc_Exp/eval_phase/test_stream/Task003/Exp003 = 0.0000\n",
      "-- Starting eval on experience 4 (Task 4) from test stream --\n",
      "100%|█████████████████████████████████████████████████████████████████████████████████| 63/63 [00:00<00:00, 108.81it/s]\n",
      "> Eval on experience 4 (Task 4) from test stream ended.\n",
      "\tTop1_Acc_Exp/eval_phase/test_stream/Task004/Exp004 = 0.0000\n",
      "-- >> End of eval phase << --\n",
      "\tTop1_Acc_Stream/eval_phase/test_stream/Task004 = 0.5779\n",
      "-- >> Start of training phase << --\n",
      "100%|████████████████████████████████████████████████████████████████████████████████| 378/378 [00:05<00:00, 70.19it/s]\n",
      "Epoch 0 ended.\n",
      "\tTime_Epoch/train_phase/train_stream/Task003 = 5.3842\n",
      "\tTop1_Acc_Epoch/train_phase/train_stream/Task003 = 0.9510\n",
      "100%|████████████████████████████████████████████████████████████████████████████████| 378/378 [00:05<00:00, 68.21it/s]\n",
      "Epoch 1 ended.\n",
      "\tTime_Epoch/train_phase/train_stream/Task003 = 5.5419\n",
      "\tTop1_Acc_Epoch/train_phase/train_stream/Task003 = 0.9797\n",
      "-- >> End of training phase << --\n",
      "-- >> Start of eval phase << --\n",
      "-- Starting eval on experience 0 (Task 0) from test stream --\n",
      "100%|█████████████████████████████████████████████████████████████████████████████████| 58/58 [00:00<00:00, 106.03it/s]\n",
      "> Eval on experience 0 (Task 0) from test stream ended.\n",
      "\tTop1_Acc_Exp/eval_phase/test_stream/Task000/Exp000 = 0.9351\n",
      "-- Starting eval on experience 1 (Task 1) from test stream --\n",
      "100%|█████████████████████████████████████████████████████████████████████████████████| 68/68 [00:00<00:00, 105.10it/s]\n",
      "> Eval on experience 1 (Task 1) from test stream ended.\n",
      "\tTop1_Acc_Exp/eval_phase/test_stream/Task001/Exp001 = 0.9700\n",
      "-- Starting eval on experience 2 (Task 2) from test stream --\n",
      "100%|█████████████████████████████████████████████████████████████████████████████████| 62/62 [00:00<00:00, 105.09it/s]\n",
      "> Eval on experience 2 (Task 2) from test stream ended.\n",
      "\tTop1_Acc_Exp/eval_phase/test_stream/Task002/Exp002 = 0.9923\n",
      "-- Starting eval on experience 3 (Task 3) from test stream --\n",
      "100%|█████████████████████████████████████████████████████████████████████████████████| 64/64 [00:00<00:00, 108.29it/s]\n",
      "> Eval on experience 3 (Task 3) from test stream ended.\n",
      "\tTop1_Acc_Exp/eval_phase/test_stream/Task003/Exp003 = 0.9827\n",
      "-- Starting eval on experience 4 (Task 4) from test stream --\n",
      "100%|█████████████████████████████████████████████████████████████████████████████████| 63/63 [00:00<00:00, 106.42it/s]\n",
      "> Eval on experience 4 (Task 4) from test stream ended.\n",
      "\tTop1_Acc_Exp/eval_phase/test_stream/Task004/Exp004 = 0.0000\n",
      "-- >> End of eval phase << --\n",
      "\tTop1_Acc_Stream/eval_phase/test_stream/Task004 = 0.7755\n",
      "-- >> Start of training phase << --\n",
      "100%|████████████████████████████████████████████████████████████████████████████████| 379/379 [00:05<00:00, 67.40it/s]\n",
      "Epoch 0 ended.\n",
      "\tTime_Epoch/train_phase/train_stream/Task004 = 5.6226\n",
      "\tTop1_Acc_Epoch/train_phase/train_stream/Task004 = 0.9618\n",
      "100%|████████████████████████████████████████████████████████████████████████████████| 379/379 [00:05<00:00, 69.58it/s]\n",
      "Epoch 1 ended.\n",
      "\tTime_Epoch/train_phase/train_stream/Task004 = 5.4463\n",
      "\tTop1_Acc_Epoch/train_phase/train_stream/Task004 = 0.9880\n",
      "-- >> End of training phase << --\n",
      "-- >> Start of eval phase << --\n",
      "-- Starting eval on experience 0 (Task 0) from test stream --\n",
      "100%|█████████████████████████████████████████████████████████████████████████████████| 58/58 [00:00<00:00, 108.62it/s]\n",
      "> Eval on experience 0 (Task 0) from test stream ended.\n",
      "\tTop1_Acc_Exp/eval_phase/test_stream/Task000/Exp000 = 0.9470\n",
      "-- Starting eval on experience 1 (Task 1) from test stream --\n",
      "100%|█████████████████████████████████████████████████████████████████████████████████| 68/68 [00:00<00:00, 106.42it/s]\n",
      "> Eval on experience 1 (Task 1) from test stream ended.\n",
      "\tTop1_Acc_Exp/eval_phase/test_stream/Task001/Exp001 = 0.9677\n",
      "-- Starting eval on experience 2 (Task 2) from test stream --\n",
      "100%|█████████████████████████████████████████████████████████████████████████████████| 62/62 [00:00<00:00, 107.64it/s]\n",
      "> Eval on experience 2 (Task 2) from test stream ended.\n",
      "\tTop1_Acc_Exp/eval_phase/test_stream/Task002/Exp002 = 0.9918\n",
      "-- Starting eval on experience 3 (Task 3) from test stream --\n",
      "100%|█████████████████████████████████████████████████████████████████████████████████| 64/64 [00:00<00:00, 110.73it/s]\n",
      "> Eval on experience 3 (Task 3) from test stream ended.\n",
      "\tTop1_Acc_Exp/eval_phase/test_stream/Task003/Exp003 = 0.9772\n",
      "-- Starting eval on experience 4 (Task 4) from test stream --\n",
      "100%|█████████████████████████████████████████████████████████████████████████████████| 63/63 [00:00<00:00, 107.51it/s]\n",
      "> Eval on experience 4 (Task 4) from test stream ended.\n",
      "\tTop1_Acc_Exp/eval_phase/test_stream/Task004/Exp004 = 0.9910\n",
      "-- >> End of eval phase << --\n",
      "\tTop1_Acc_Stream/eval_phase/test_stream/Task004 = 0.9752\n"
     ]
    }
   ],
   "source": [
    "# train and test loop over the stream of experiences\n",
    "results = []\n",
    "for train_exp in train_stream:\n",
    "    cl_strategy.train(train_exp)\n",
    "    results.append(cl_strategy.eval(test_stream))"
   ]
  },
  {
   "cell_type": "code",
   "execution_count": 20,
   "metadata": {},
   "outputs": [
    {
     "data": {
      "text/plain": [
       "[{'Top1_Acc_Epoch/train_phase/train_stream/Task000': 0.9794514507452157,\n",
       "  'Time_Epoch/train_phase/train_stream/Task000': 5.820202099988819,\n",
       "  'Top1_Acc_Exp/eval_phase/test_stream/Task000/Exp000': 0.9832432432432432,\n",
       "  'Top1_Acc_Exp/eval_phase/test_stream/Task001/Exp001': 0.0,\n",
       "  'Top1_Acc_Exp/eval_phase/test_stream/Task002/Exp002': 0.5015353121801432,\n",
       "  'Top1_Acc_Exp/eval_phase/test_stream/Task003/Exp003': 0.0,\n",
       "  'Top1_Acc_Exp/eval_phase/test_stream/Task004/Exp004': 0.0,\n",
       "  'Top1_Acc_Stream/eval_phase/test_stream/Task004': 0.2799},\n",
       " {'Top1_Acc_Epoch/train_phase/train_stream/Task000': 0.9794514507452157,\n",
       "  'Time_Epoch/train_phase/train_stream/Task000': 5.820202099988819,\n",
       "  'Top1_Acc_Exp/eval_phase/test_stream/Task000/Exp000': 0.9356756756756757,\n",
       "  'Top1_Acc_Exp/eval_phase/test_stream/Task001/Exp001': 0.9907706506691278,\n",
       "  'Top1_Acc_Exp/eval_phase/test_stream/Task002/Exp002': 0.5015353121801432,\n",
       "  'Top1_Acc_Exp/eval_phase/test_stream/Task003/Exp003': 0.0,\n",
       "  'Top1_Acc_Exp/eval_phase/test_stream/Task004/Exp004': 0.0,\n",
       "  'Top1_Acc_Stream/eval_phase/test_stream/Task004': 0.4858,\n",
       "  'Top1_Acc_Epoch/train_phase/train_stream/Task001': 0.9896062992125985,\n",
       "  'Time_Epoch/train_phase/train_stream/Task001': 6.2708741999958875},\n",
       " {'Top1_Acc_Epoch/train_phase/train_stream/Task000': 0.9794514507452157,\n",
       "  'Time_Epoch/train_phase/train_stream/Task000': 5.820202099988819,\n",
       "  'Top1_Acc_Exp/eval_phase/test_stream/Task000/Exp000': 0.9475675675675675,\n",
       "  'Top1_Acc_Exp/eval_phase/test_stream/Task001/Exp001': 0.9621596677434241,\n",
       "  'Top1_Acc_Exp/eval_phase/test_stream/Task002/Exp002': 0.9933469805527124,\n",
       "  'Top1_Acc_Exp/eval_phase/test_stream/Task003/Exp003': 0.0,\n",
       "  'Top1_Acc_Exp/eval_phase/test_stream/Task004/Exp004': 0.0,\n",
       "  'Top1_Acc_Stream/eval_phase/test_stream/Task004': 0.5779,\n",
       "  'Top1_Acc_Epoch/train_phase/train_stream/Task001': 0.9896062992125985,\n",
       "  'Time_Epoch/train_phase/train_stream/Task001': 6.2708741999958875,\n",
       "  'Top1_Acc_Epoch/train_phase/train_stream/Task002': 0.9905724477662646,\n",
       "  'Time_Epoch/train_phase/train_stream/Task002': 5.2739869999932125},\n",
       " {'Top1_Acc_Epoch/train_phase/train_stream/Task000': 0.9794514507452157,\n",
       "  'Time_Epoch/train_phase/train_stream/Task000': 5.820202099988819,\n",
       "  'Top1_Acc_Exp/eval_phase/test_stream/Task000/Exp000': 0.9351351351351351,\n",
       "  'Top1_Acc_Exp/eval_phase/test_stream/Task001/Exp001': 0.9700046146746655,\n",
       "  'Top1_Acc_Exp/eval_phase/test_stream/Task002/Exp002': 0.9923234390992836,\n",
       "  'Top1_Acc_Exp/eval_phase/test_stream/Task003/Exp003': 0.9826646854878652,\n",
       "  'Top1_Acc_Exp/eval_phase/test_stream/Task004/Exp004': 0.0,\n",
       "  'Top1_Acc_Stream/eval_phase/test_stream/Task004': 0.7755,\n",
       "  'Top1_Acc_Epoch/train_phase/train_stream/Task001': 0.9896062992125985,\n",
       "  'Time_Epoch/train_phase/train_stream/Task001': 6.2708741999958875,\n",
       "  'Top1_Acc_Epoch/train_phase/train_stream/Task002': 0.9905724477662646,\n",
       "  'Time_Epoch/train_phase/train_stream/Task002': 5.2739869999932125,\n",
       "  'Top1_Acc_Epoch/train_phase/train_stream/Task003': 0.9797185430463576,\n",
       "  'Time_Epoch/train_phase/train_stream/Task003': 5.541896599999745},\n",
       " {'Top1_Acc_Epoch/train_phase/train_stream/Task000': 0.9794514507452157,\n",
       "  'Time_Epoch/train_phase/train_stream/Task000': 5.820202099988819,\n",
       "  'Top1_Acc_Exp/eval_phase/test_stream/Task000/Exp000': 0.947027027027027,\n",
       "  'Top1_Acc_Exp/eval_phase/test_stream/Task001/Exp001': 0.9676972773419474,\n",
       "  'Top1_Acc_Exp/eval_phase/test_stream/Task002/Exp002': 0.9918116683725691,\n",
       "  'Top1_Acc_Exp/eval_phase/test_stream/Task003/Exp003': 0.9772164437840515,\n",
       "  'Top1_Acc_Exp/eval_phase/test_stream/Task004/Exp004': 0.991044776119403,\n",
       "  'Top1_Acc_Stream/eval_phase/test_stream/Task004': 0.9752,\n",
       "  'Top1_Acc_Epoch/train_phase/train_stream/Task001': 0.9896062992125985,\n",
       "  'Time_Epoch/train_phase/train_stream/Task001': 6.2708741999958875,\n",
       "  'Top1_Acc_Epoch/train_phase/train_stream/Task002': 0.9905724477662646,\n",
       "  'Time_Epoch/train_phase/train_stream/Task002': 5.2739869999932125,\n",
       "  'Top1_Acc_Epoch/train_phase/train_stream/Task003': 0.9797185430463576,\n",
       "  'Time_Epoch/train_phase/train_stream/Task003': 5.541896599999745,\n",
       "  'Top1_Acc_Epoch/train_phase/train_stream/Task004': 0.9880234575039234,\n",
       "  'Time_Epoch/train_phase/train_stream/Task004': 5.446254399997997}]"
      ]
     },
     "execution_count": 20,
     "metadata": {},
     "output_type": "execute_result"
    }
   ],
   "source": [
    "results"
   ]
  },
  {
   "cell_type": "code",
   "execution_count": 11,
   "metadata": {},
   "outputs": [
    {
     "data": {
      "text/plain": [
       "defaultdict(<function avalanche.training.plugins.evaluation.EvaluationPlugin.__init__.<locals>.<lambda>()>,\n",
       "            {'Top1_Acc_Epoch/train_phase/train_stream/Task000': ([355, 710],\n",
       "              [0.954757915160067, 0.9794514507452157]),\n",
       "             'Time_Epoch/train_phase/train_stream/Task000': ([355, 710],\n",
       "              [5.290250399993965, 5.3087250999960816]),\n",
       "             'Top1_Acc_Exp/eval_phase/test_stream/Task000/Exp000': ([710,\n",
       "               1504,\n",
       "               2240,\n",
       "               2996,\n",
       "               3754],\n",
       "              [0.9832432432432432,\n",
       "               0.9356756756756757,\n",
       "               0.9475675675675675,\n",
       "               0.9351351351351351,\n",
       "               0.947027027027027]),\n",
       "             'Top1_Acc_Exp/eval_phase/test_stream/Task001/Exp001': ([710,\n",
       "               1504,\n",
       "               2240,\n",
       "               2996,\n",
       "               3754],\n",
       "              [0.0,\n",
       "               0.9907706506691278,\n",
       "               0.9621596677434241,\n",
       "               0.9700046146746655,\n",
       "               0.9676972773419474]),\n",
       "             'Top1_Acc_Exp/eval_phase/test_stream/Task002/Exp002': ([710,\n",
       "               1504,\n",
       "               2240,\n",
       "               2996,\n",
       "               3754],\n",
       "              [0.5015353121801432,\n",
       "               0.5015353121801432,\n",
       "               0.9933469805527124,\n",
       "               0.9923234390992836,\n",
       "               0.9918116683725691]),\n",
       "             'Top1_Acc_Exp/eval_phase/test_stream/Task003/Exp003': ([710,\n",
       "               1504,\n",
       "               2240,\n",
       "               2996,\n",
       "               3754],\n",
       "              [0.0, 0.0, 0.0, 0.9826646854878652, 0.9772164437840515]),\n",
       "             'Top1_Acc_Exp/eval_phase/test_stream/Task004/Exp004': ([710,\n",
       "               1504,\n",
       "               2240,\n",
       "               2996,\n",
       "               3754],\n",
       "              [0.0, 0.0, 0.0, 0.0, 0.991044776119403]),\n",
       "             'Top1_Acc_Stream/eval_phase/test_stream/Task004': ([710,\n",
       "               1504,\n",
       "               2240,\n",
       "               2996,\n",
       "               3754],\n",
       "              [0.2799, 0.4858, 0.5779, 0.7755, 0.9752]),\n",
       "             'Top1_Acc_Epoch/train_phase/train_stream/Task001': ([1107, 1504],\n",
       "              [0.9738582677165354, 0.9896062992125985]),\n",
       "             'Time_Epoch/train_phase/train_stream/Task001': ([1107, 1504],\n",
       "              [5.945607999994536, 5.763084799997159]),\n",
       "             'Top1_Acc_Epoch/train_phase/train_stream/Task002': ([1872, 2240],\n",
       "              [0.9644131136402242, 0.9905724477662646]),\n",
       "             'Time_Epoch/train_phase/train_stream/Task002': ([1872, 2240],\n",
       "              [5.428835400001844, 5.284378900003503]),\n",
       "             'Top1_Acc_Epoch/train_phase/train_stream/Task003': ([2618, 2996],\n",
       "              [0.9509933774834437, 0.9797185430463576]),\n",
       "             'Time_Epoch/train_phase/train_stream/Task003': ([2618, 2996],\n",
       "              [5.817041900008917, 6.188447199994698]),\n",
       "             'Top1_Acc_Epoch/train_phase/train_stream/Task004': ([3375, 3754],\n",
       "              [0.9617576608573553, 0.9880234575039234]),\n",
       "             'Time_Epoch/train_phase/train_stream/Task004': ([3375, 3754],\n",
       "              [5.935847900007502, 5.983915900011198])})"
      ]
     },
     "execution_count": 11,
     "metadata": {},
     "output_type": "execute_result"
    }
   ],
   "source": [
    "cl_strategy.evaluator.get_all_metrics()"
   ]
  },
  {
   "cell_type": "code",
   "execution_count": null,
   "metadata": {},
   "outputs": [],
   "source": []
  }
 ],
 "metadata": {
  "kernelspec": {
   "display_name": "Python 3 (ipykernel)",
   "language": "python",
   "name": "python3"
  },
  "language_info": {
   "codemirror_mode": {
    "name": "ipython",
    "version": 3
   },
   "file_extension": ".py",
   "mimetype": "text/x-python",
   "name": "python",
   "nbconvert_exporter": "python",
   "pygments_lexer": "ipython3",
   "version": "3.10.0"
  }
 },
 "nbformat": 4,
 "nbformat_minor": 2
}
