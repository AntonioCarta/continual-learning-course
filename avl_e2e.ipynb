{
 "cells": [
  {
   "cell_type": "markdown",
   "metadata": {
    "pycharm": {
     "name": "#%% md\n"
    }
   },
   "source": [
    "## 🤝 Run it on Google Colab\n",
    "\n",
    "You can run _this chapter_ and play with it on Google Colaboratory: [![Open In Colab](https://colab.research.google.com/assets/colab-badge.svg)](https://colab.research.google.com/github/AntonioCarta/avalanche-demo/blob/main/avl_e2e.ipynb)\n",
    "\n",
    "https://github.com/AntonioCarta/avalanche-demo/blob/main/avl_e2e.ipynb"
   ]
  },
  {
   "cell_type": "markdown",
   "metadata": {
    "pycharm": {
     "name": "#%% md\n"
    }
   },
   "source": [
    "# Avalanche End-to-End Exampe\n",
    "\n",
    "A basic example using Avalanche.\n",
    "\n",
    "First, let's install Avalanche. You can skip this step if you have installed it already."
   ]
  },
  {
   "cell_type": "code",
   "execution_count": 1,
   "metadata": {
    "pycharm": {
     "name": "#%%\n"
    },
    "scrolled": true
   },
   "outputs": [
    {
     "name": "stdout",
     "output_type": "stream",
     "text": [
      "Requirement already satisfied: avalanche-lib==0.3.1 in c:\\users\\w-32\\anaconda3\\envs\\avl03\\lib\\site-packages (0.3.1)\n",
      "Requirement already satisfied: matplotlib in c:\\users\\w-32\\anaconda3\\envs\\avl03\\lib\\site-packages (from avalanche-lib==0.3.1) (3.6.2)\n",
      "Requirement already satisfied: torchmetrics in c:\\users\\w-32\\anaconda3\\envs\\avl03\\lib\\site-packages (from avalanche-lib==0.3.1) (0.11.0)\n",
      "Requirement already satisfied: pytorchcv in c:\\users\\w-32\\anaconda3\\envs\\avl03\\lib\\site-packages (from avalanche-lib==0.3.1) (0.0.67)\n",
      "Requirement already satisfied: scikit-learn in c:\\users\\w-32\\anaconda3\\envs\\avl03\\lib\\site-packages (from avalanche-lib==0.3.1) (1.2.0)\n",
      "Requirement already satisfied: wandb in c:\\users\\w-32\\anaconda3\\envs\\avl03\\lib\\site-packages (from avalanche-lib==0.3.1) (0.13.6)\n",
      "Requirement already satisfied: tensorboard>=1.15 in c:\\users\\w-32\\anaconda3\\envs\\avl03\\lib\\site-packages (from avalanche-lib==0.3.1) (2.11.0)\n",
      "Requirement already satisfied: quadprog in c:\\users\\w-32\\anaconda3\\envs\\avl03\\lib\\site-packages (from avalanche-lib==0.3.1) (0.1.11)\n",
      "Collecting setuptools<=59.5.0\n",
      "  Using cached setuptools-59.5.0-py3-none-any.whl (952 kB)\n",
      "Requirement already satisfied: typing-extensions in c:\\users\\w-32\\anaconda3\\envs\\avl03\\lib\\site-packages (from avalanche-lib==0.3.1) (4.4.0)\n",
      "Requirement already satisfied: torch in c:\\users\\w-32\\anaconda3\\envs\\avl03\\lib\\site-packages (from avalanche-lib==0.3.1) (1.13.0)\n",
      "Requirement already satisfied: tqdm in c:\\users\\w-32\\anaconda3\\envs\\avl03\\lib\\site-packages (from avalanche-lib==0.3.1) (4.64.1)\n",
      "Requirement already satisfied: numpy in c:\\users\\w-32\\anaconda3\\envs\\avl03\\lib\\site-packages (from avalanche-lib==0.3.1) (1.23.5)\n",
      "Requirement already satisfied: gputil in c:\\users\\w-32\\anaconda3\\envs\\avl03\\lib\\site-packages (from avalanche-lib==0.3.1) (1.4.0)\n",
      "Requirement already satisfied: torchvision in c:\\users\\w-32\\anaconda3\\envs\\avl03\\lib\\site-packages (from avalanche-lib==0.3.1) (0.14.0)\n",
      "Requirement already satisfied: dill in c:\\users\\w-32\\anaconda3\\envs\\avl03\\lib\\site-packages (from avalanche-lib==0.3.1) (0.3.6)\n",
      "Requirement already satisfied: psutil in c:\\users\\w-32\\anaconda3\\envs\\avl03\\lib\\site-packages (from avalanche-lib==0.3.1) (5.9.4)\n",
      "Requirement already satisfied: gdown in c:\\users\\w-32\\anaconda3\\envs\\avl03\\lib\\site-packages (from avalanche-lib==0.3.1) (4.6.0)\n",
      "Requirement already satisfied: protobuf<4,>=3.9.2 in c:\\users\\w-32\\anaconda3\\envs\\avl03\\lib\\site-packages (from tensorboard>=1.15->avalanche-lib==0.3.1) (3.20.3)\n",
      "Requirement already satisfied: google-auth<3,>=1.6.3 in c:\\users\\w-32\\anaconda3\\envs\\avl03\\lib\\site-packages (from tensorboard>=1.15->avalanche-lib==0.3.1) (2.15.0)\n",
      "Requirement already satisfied: markdown>=2.6.8 in c:\\users\\w-32\\anaconda3\\envs\\avl03\\lib\\site-packages (from tensorboard>=1.15->avalanche-lib==0.3.1) (3.4.1)\n",
      "Requirement already satisfied: tensorboard-plugin-wit>=1.6.0 in c:\\users\\w-32\\anaconda3\\envs\\avl03\\lib\\site-packages (from tensorboard>=1.15->avalanche-lib==0.3.1) (1.8.1)\n",
      "Requirement already satisfied: wheel>=0.26 in c:\\users\\w-32\\anaconda3\\envs\\avl03\\lib\\site-packages (from tensorboard>=1.15->avalanche-lib==0.3.1) (0.37.1)\n",
      "Requirement already satisfied: absl-py>=0.4 in c:\\users\\w-32\\anaconda3\\envs\\avl03\\lib\\site-packages (from tensorboard>=1.15->avalanche-lib==0.3.1) (1.3.0)\n",
      "Requirement already satisfied: grpcio>=1.24.3 in c:\\users\\w-32\\anaconda3\\envs\\avl03\\lib\\site-packages (from tensorboard>=1.15->avalanche-lib==0.3.1) (1.51.1)\n",
      "Requirement already satisfied: google-auth-oauthlib<0.5,>=0.4.1 in c:\\users\\w-32\\anaconda3\\envs\\avl03\\lib\\site-packages (from tensorboard>=1.15->avalanche-lib==0.3.1) (0.4.6)\n",
      "Requirement already satisfied: tensorboard-data-server<0.7.0,>=0.6.0 in c:\\users\\w-32\\anaconda3\\envs\\avl03\\lib\\site-packages (from tensorboard>=1.15->avalanche-lib==0.3.1) (0.6.1)\n",
      "Requirement already satisfied: requests<3,>=2.21.0 in c:\\users\\w-32\\anaconda3\\envs\\avl03\\lib\\site-packages (from tensorboard>=1.15->avalanche-lib==0.3.1) (2.28.1)\n",
      "Requirement already satisfied: werkzeug>=1.0.1 in c:\\users\\w-32\\anaconda3\\envs\\avl03\\lib\\site-packages (from tensorboard>=1.15->avalanche-lib==0.3.1) (2.2.2)\n",
      "Requirement already satisfied: filelock in c:\\users\\w-32\\anaconda3\\envs\\avl03\\lib\\site-packages (from gdown->avalanche-lib==0.3.1) (3.8.2)\n",
      "Requirement already satisfied: six in c:\\users\\w-32\\anaconda3\\envs\\avl03\\lib\\site-packages (from gdown->avalanche-lib==0.3.1) (1.16.0)\n",
      "Requirement already satisfied: beautifulsoup4 in c:\\users\\w-32\\anaconda3\\envs\\avl03\\lib\\site-packages (from gdown->avalanche-lib==0.3.1) (4.11.1)\n",
      "Requirement already satisfied: kiwisolver>=1.0.1 in c:\\users\\w-32\\anaconda3\\envs\\avl03\\lib\\site-packages (from matplotlib->avalanche-lib==0.3.1) (1.4.4)\n",
      "Requirement already satisfied: cycler>=0.10 in c:\\users\\w-32\\anaconda3\\envs\\avl03\\lib\\site-packages (from matplotlib->avalanche-lib==0.3.1) (0.11.0)\n",
      "Requirement already satisfied: pillow>=6.2.0 in c:\\users\\w-32\\anaconda3\\envs\\avl03\\lib\\site-packages (from matplotlib->avalanche-lib==0.3.1) (9.3.0)\n",
      "Requirement already satisfied: contourpy>=1.0.1 in c:\\users\\w-32\\anaconda3\\envs\\avl03\\lib\\site-packages (from matplotlib->avalanche-lib==0.3.1) (1.0.6)\n",
      "Requirement already satisfied: pyparsing>=2.2.1 in c:\\users\\w-32\\anaconda3\\envs\\avl03\\lib\\site-packages (from matplotlib->avalanche-lib==0.3.1) (3.0.9)\n",
      "Requirement already satisfied: fonttools>=4.22.0 in c:\\users\\w-32\\anaconda3\\envs\\avl03\\lib\\site-packages (from matplotlib->avalanche-lib==0.3.1) (4.38.0)\n",
      "Requirement already satisfied: packaging>=20.0 in c:\\users\\w-32\\anaconda3\\envs\\avl03\\lib\\site-packages (from matplotlib->avalanche-lib==0.3.1) (22.0)\n",
      "Requirement already satisfied: python-dateutil>=2.7 in c:\\users\\w-32\\anaconda3\\envs\\avl03\\lib\\site-packages (from matplotlib->avalanche-lib==0.3.1) (2.8.2)\n",
      "Requirement already satisfied: threadpoolctl>=2.0.0 in c:\\users\\w-32\\anaconda3\\envs\\avl03\\lib\\site-packages (from scikit-learn->avalanche-lib==0.3.1) (3.1.0)\n",
      "Requirement already satisfied: joblib>=1.1.1 in c:\\users\\w-32\\anaconda3\\envs\\avl03\\lib\\site-packages (from scikit-learn->avalanche-lib==0.3.1) (1.2.0)\n",
      "Requirement already satisfied: scipy>=1.3.2 in c:\\users\\w-32\\anaconda3\\envs\\avl03\\lib\\site-packages (from scikit-learn->avalanche-lib==0.3.1) (1.9.3)\n",
      "Requirement already satisfied: colorama in c:\\users\\w-32\\anaconda3\\envs\\avl03\\lib\\site-packages (from tqdm->avalanche-lib==0.3.1) (0.4.6)\n",
      "Requirement already satisfied: docker-pycreds>=0.4.0 in c:\\users\\w-32\\anaconda3\\envs\\avl03\\lib\\site-packages (from wandb->avalanche-lib==0.3.1) (0.4.0)\n",
      "Requirement already satisfied: PyYAML in c:\\users\\w-32\\anaconda3\\envs\\avl03\\lib\\site-packages (from wandb->avalanche-lib==0.3.1) (6.0)\n",
      "Requirement already satisfied: promise<3,>=2.0 in c:\\users\\w-32\\anaconda3\\envs\\avl03\\lib\\site-packages (from wandb->avalanche-lib==0.3.1) (2.3)\n",
      "Requirement already satisfied: shortuuid>=0.5.0 in c:\\users\\w-32\\anaconda3\\envs\\avl03\\lib\\site-packages (from wandb->avalanche-lib==0.3.1) (1.0.11)\n",
      "Requirement already satisfied: Click!=8.0.0,>=7.0 in c:\\users\\w-32\\anaconda3\\envs\\avl03\\lib\\site-packages (from wandb->avalanche-lib==0.3.1) (8.1.3)\n",
      "Requirement already satisfied: setproctitle in c:\\users\\w-32\\anaconda3\\envs\\avl03\\lib\\site-packages (from wandb->avalanche-lib==0.3.1) (1.3.2)\n",
      "Requirement already satisfied: GitPython>=1.0.0 in c:\\users\\w-32\\anaconda3\\envs\\avl03\\lib\\site-packages (from wandb->avalanche-lib==0.3.1) (3.1.29)\n",
      "Requirement already satisfied: pathtools in c:\\users\\w-32\\anaconda3\\envs\\avl03\\lib\\site-packages (from wandb->avalanche-lib==0.3.1) (0.1.2)\n",
      "Requirement already satisfied: sentry-sdk>=1.0.0 in c:\\users\\w-32\\anaconda3\\envs\\avl03\\lib\\site-packages (from wandb->avalanche-lib==0.3.1) (1.11.1)\n",
      "Requirement already satisfied: gitdb<5,>=4.0.1 in c:\\users\\w-32\\anaconda3\\envs\\avl03\\lib\\site-packages (from GitPython>=1.0.0->wandb->avalanche-lib==0.3.1) (4.0.10)\n",
      "Requirement already satisfied: cachetools<6.0,>=2.0.0 in c:\\users\\w-32\\anaconda3\\envs\\avl03\\lib\\site-packages (from google-auth<3,>=1.6.3->tensorboard>=1.15->avalanche-lib==0.3.1) (5.2.0)\n",
      "Requirement already satisfied: pyasn1-modules>=0.2.1 in c:\\users\\w-32\\anaconda3\\envs\\avl03\\lib\\site-packages (from google-auth<3,>=1.6.3->tensorboard>=1.15->avalanche-lib==0.3.1) (0.2.8)\n",
      "Requirement already satisfied: rsa<5,>=3.1.4 in c:\\users\\w-32\\anaconda3\\envs\\avl03\\lib\\site-packages (from google-auth<3,>=1.6.3->tensorboard>=1.15->avalanche-lib==0.3.1) (4.9)\n",
      "Requirement already satisfied: requests-oauthlib>=0.7.0 in c:\\users\\w-32\\anaconda3\\envs\\avl03\\lib\\site-packages (from google-auth-oauthlib<0.5,>=0.4.1->tensorboard>=1.15->avalanche-lib==0.3.1) (1.3.1)\n",
      "Requirement already satisfied: idna<4,>=2.5 in c:\\users\\w-32\\anaconda3\\envs\\avl03\\lib\\site-packages (from requests<3,>=2.21.0->tensorboard>=1.15->avalanche-lib==0.3.1) (3.4)\n",
      "Requirement already satisfied: urllib3<1.27,>=1.21.1 in c:\\users\\w-32\\anaconda3\\envs\\avl03\\lib\\site-packages (from requests<3,>=2.21.0->tensorboard>=1.15->avalanche-lib==0.3.1) (1.26.14)\n",
      "Requirement already satisfied: certifi>=2017.4.17 in c:\\users\\w-32\\anaconda3\\envs\\avl03\\lib\\site-packages (from requests<3,>=2.21.0->tensorboard>=1.15->avalanche-lib==0.3.1) (2022.9.24)\n",
      "Requirement already satisfied: charset-normalizer<3,>=2 in c:\\users\\w-32\\anaconda3\\envs\\avl03\\lib\\site-packages (from requests<3,>=2.21.0->tensorboard>=1.15->avalanche-lib==0.3.1) (2.1.1)\n",
      "Requirement already satisfied: MarkupSafe>=2.1.1 in c:\\users\\w-32\\anaconda3\\envs\\avl03\\lib\\site-packages (from werkzeug>=1.0.1->tensorboard>=1.15->avalanche-lib==0.3.1) (2.1.1)\n",
      "Requirement already satisfied: soupsieve>1.2 in c:\\users\\w-32\\anaconda3\\envs\\avl03\\lib\\site-packages (from beautifulsoup4->gdown->avalanche-lib==0.3.1) (2.3.2.post1)\n",
      "Requirement already satisfied: PySocks!=1.5.7,>=1.5.6 in c:\\users\\w-32\\anaconda3\\envs\\avl03\\lib\\site-packages (from requests<3,>=2.21.0->tensorboard>=1.15->avalanche-lib==0.3.1) (1.7.1)\n",
      "Requirement already satisfied: smmap<6,>=3.0.1 in c:\\users\\w-32\\anaconda3\\envs\\avl03\\lib\\site-packages (from gitdb<5,>=4.0.1->GitPython>=1.0.0->wandb->avalanche-lib==0.3.1) (5.0.0)\n",
      "Requirement already satisfied: pyasn1<0.5.0,>=0.4.6 in c:\\users\\w-32\\anaconda3\\envs\\avl03\\lib\\site-packages (from pyasn1-modules>=0.2.1->google-auth<3,>=1.6.3->tensorboard>=1.15->avalanche-lib==0.3.1) (0.4.8)\n",
      "Requirement already satisfied: oauthlib>=3.0.0 in c:\\users\\w-32\\anaconda3\\envs\\avl03\\lib\\site-packages (from requests-oauthlib>=0.7.0->google-auth-oauthlib<0.5,>=0.4.1->tensorboard>=1.15->avalanche-lib==0.3.1) (3.2.2)\n",
      "Installing collected packages: setuptools\n",
      "  Attempting uninstall: setuptools\n",
      "    Found existing installation: setuptools 65.6.3\n",
      "    Uninstalling setuptools-65.6.3:\n",
      "      Successfully uninstalled setuptools-65.6.3\n",
      "Successfully installed setuptools-59.5.0\n"
     ]
    }
   ],
   "source": [
    "!pip install avalanche-lib==0.5.0"
   ]
  },
  {
   "cell_type": "markdown",
   "metadata": {
    "pycharm": {
     "name": "#%% md\n"
    }
   },
   "source": [
    "## Benchmarks"
   ]
  },
  {
   "attachments": {
    "7e087c47-1135-4a09-8544-4c55a33e8e47.png": {
     "image/png": "[encoded data removed]"
    }
   },
   "cell_type": "markdown",
   "metadata": {},
   "source": [
    "you can import benchmarks from the `avl.benchmarks` module.\n",
    "We use task-aware SplitMNIST.\n",
    "\n",
    "![image.png](attachment:7e087c47-1135-4a09-8544-4c55a33e8e47.png)"
   ]
  },
  {
   "cell_type": "code",
   "execution_count": 1,
   "metadata": {},
   "outputs": [
    {
     "name": "stdout",
     "output_type": "stream",
     "text": [
      "len train: 5, len test: 5\n",
      "(0) - T0, classes=[5, 6]\n",
      "(1) - T1, classes=[1, 2]\n",
      "(2) - T2, classes=[0, 8]\n",
      "(3) - T3, classes=[9, 3]\n",
      "(4) - T4, classes=[4, 7]\n"
     ]
    }
   ],
   "source": [
    "from avalanche.benchmarks import SplitMNIST\n",
    "\n",
    "benchmark = SplitMNIST(\n",
    "    n_experiences=5,\n",
    "    return_task_id=True,\n",
    "    seed=1\n",
    ")\n",
    "train_stream = benchmark.train_stream\n",
    "test_stream = benchmark.test_stream\n",
    "\n",
    "print(f\"len train: {len(train_stream)}, len test: {len(test_stream)}\")\n",
    "\n",
    "for exp in train_stream:\n",
    "    eid = exp.current_experience\n",
    "    curr_classes = exp.classes_in_this_experience\n",
    "    tid = exp.task_label\n",
    "    print(f\"({eid}) - T{tid}, classes={curr_classes}\")"
   ]
  },
  {
   "cell_type": "markdown",
   "metadata": {},
   "source": [
    "# Multi-Head Model\n",
    "we use a multihead model:\n",
    "- shared feature extractor\n",
    "- one classification head for each task (created on-demand)"
   ]
  },
  {
   "cell_type": "code",
   "execution_count": 2,
   "metadata": {},
   "outputs": [
    {
     "name": "stdout",
     "output_type": "stream",
     "text": [
      "MultiTaskDecorator(\n",
      "  (model): MLP(\n",
      "    (features): Sequential(\n",
      "      (0): Linear(in_features=784, out_features=512, bias=True)\n",
      "      (1): ReLU()\n",
      "      (2): Linear(in_features=512, out_features=512, bias=True)\n",
      "      (3): ReLU()\n",
      "    )\n",
      "    (classifier): Sequential()\n",
      "  )\n",
      "  (classifier): MultiHeadClassifier(\n",
      "    (classifiers): ModuleDict(\n",
      "      (0): IncrementalClassifier(\n",
      "        (classifier): Linear(in_features=512, out_features=10, bias=True)\n",
      "      )\n",
      "    )\n",
      "  )\n",
      ")\n"
     ]
    }
   ],
   "source": [
    "import torch\n",
    "from torch import nn\n",
    "from avalanche.models import as_multitask\n",
    "\n",
    "class MLP(nn.Module):\n",
    "    def __init__(self):\n",
    "        super().__init__()\n",
    "        self.features = nn.Sequential(\n",
    "            nn.Linear(784, 512),\n",
    "            nn.ReLU(),\n",
    "            nn.Linear(512, 512),\n",
    "            nn.ReLU()\n",
    "        )\n",
    "        self.classifier = nn.Linear(512, 10)\n",
    "    \n",
    "    def forward(self, x, **kwargs):\n",
    "        x = x.reshape(x.shape[0], -1)\n",
    "        x = self.features(x)\n",
    "        return self.classifier(x)\n",
    "    \n",
    "model = MLP()\n",
    "model = as_multitask(MLP(), 'classifier')\n",
    "print(model)"
   ]
  },
  {
   "cell_type": "markdown",
   "metadata": {},
   "source": [
    "# Device, Optimizer, Criterion\n",
    "these are pytorch objects"
   ]
  },
  {
   "cell_type": "code",
   "execution_count": 3,
   "metadata": {},
   "outputs": [],
   "source": [
    "from torch.optim import SGD\n",
    "\n",
    "device = torch.device(\"cuda:0\" if torch.cuda.is_available() else \"cpu\")\n",
    "optimizer = SGD(model.parameters(), lr=0.001, momentum=0.9)\n",
    "criterion = torch.nn.CrossEntropyLoss()"
   ]
  },
  {
   "cell_type": "markdown",
   "metadata": {},
   "source": [
    "# EvaluationPlugin\n",
    "choose the metrics and loggers"
   ]
  },
  {
   "cell_type": "code",
   "execution_count": 4,
   "metadata": {},
   "outputs": [],
   "source": [
    "from avalanche.evaluation.metrics import accuracy_metrics, timing_metrics\n",
    "from avalanche.logging import InteractiveLogger\n",
    "from avalanche.training.plugins import EvaluationPlugin\n",
    "\n",
    "# print to stdout\n",
    "interactive_logger = InteractiveLogger()\n",
    "\n",
    "eval_plugin = EvaluationPlugin(\n",
    "    accuracy_metrics(epoch=True, experience=True, stream=True),\n",
    "    timing_metrics(epoch=True),\n",
    "    loggers=[interactive_logger]\n",
    ")"
   ]
  },
  {
   "cell_type": "markdown",
   "metadata": {},
   "source": [
    "# CL Strategy"
   ]
  },
  {
   "cell_type": "code",
   "execution_count": 6,
   "metadata": {},
   "outputs": [],
   "source": [
    "from avalanche.training import Naive\n",
    "\n",
    "cl_strategy = Naive(\n",
    "    model=model, \n",
    "    optimizer=optimizer, \n",
    "    criterion=criterion, \n",
    "    train_mb_size=32, train_epochs=2,\n",
    "    eval_mb_size=32, device=device,\n",
    "    evaluator=eval_plugin\n",
    ")"
   ]
  },
  {
   "cell_type": "markdown",
   "metadata": {},
   "source": [
    "# Training and Evaluation Loop"
   ]
  },
  {
   "cell_type": "code",
   "execution_count": 7,
   "metadata": {
    "scrolled": true
   },
   "outputs": [
    {
     "name": "stdout",
     "output_type": "stream",
     "text": [
      "-- >> Start of training phase << --\n",
      "100%|████████████████████████████████████████████████████████████████████████████████████████████████████████████████████████████████████████████████████| 355/355 [00:05<00:00, 68.44it/s]\n",
      "Epoch 0 ended.\n",
      "\tTime_Epoch/train_phase/train_stream/Task000 = 5.2105\n",
      "\tTop1_Acc_Epoch/train_phase/train_stream/Task000 = 0.9477\n",
      "100%|████████████████████████████████████████████████████████████████████████████████████████████████████████████████████████████████████████████████████| 355/355 [00:04<00:00, 73.12it/s]\n",
      "Epoch 1 ended.\n",
      "\tTime_Epoch/train_phase/train_stream/Task000 = 4.8533\n",
      "\tTop1_Acc_Epoch/train_phase/train_stream/Task000 = 0.9795\n",
      "-- >> End of training phase << --\n",
      "-- >> Start of eval phase << --\n",
      "-- Starting eval on experience 0 (Task 0) from test stream --\n",
      "100%|█████████████████████████████████████████████████████████████████████████████████████████████████████████████████████████████████████████████████████| 58/58 [00:00<00:00, 100.00it/s]\n",
      "> Eval on experience 0 (Task 0) from test stream ended.\n",
      "\tTop1_Acc_Exp/eval_phase/test_stream/Task000/Exp000 = 0.9811\n",
      "-- Starting eval on experience 1 (Task 1) from test stream --\n",
      "100%|█████████████████████████████████████████████████████████████████████████████████████████████████████████████████████████████████████████████████████| 68/68 [00:00<00:00, 100.59it/s]\n",
      "> Eval on experience 1 (Task 1) from test stream ended.\n",
      "\tTop1_Acc_Exp/eval_phase/test_stream/Task001/Exp001 = 0.0000\n",
      "-- Starting eval on experience 2 (Task 2) from test stream --\n",
      "100%|██████████████████████████████████████████████████████████████████████████████████████████████████████████████████████████████████████████████████████| 62/62 [00:00<00:00, 90.78it/s]\n",
      "> Eval on experience 2 (Task 2) from test stream ended.\n",
      "\tTop1_Acc_Exp/eval_phase/test_stream/Task002/Exp002 = 0.5015\n",
      "-- Starting eval on experience 3 (Task 3) from test stream --\n",
      "100%|██████████████████████████████████████████████████████████████████████████████████████████████████████████████████████████████████████████████████████| 64/64 [00:00<00:00, 94.53it/s]\n",
      "> Eval on experience 3 (Task 3) from test stream ended.\n",
      "\tTop1_Acc_Exp/eval_phase/test_stream/Task003/Exp003 = 0.0000\n",
      "-- Starting eval on experience 4 (Task 4) from test stream --\n",
      "100%|██████████████████████████████████████████████████████████████████████████████████████████████████████████████████████████████████████████████████████| 63/63 [00:00<00:00, 97.37it/s]\n",
      "> Eval on experience 4 (Task 4) from test stream ended.\n",
      "\tTop1_Acc_Exp/eval_phase/test_stream/Task004/Exp004 = 0.0000\n",
      "-- >> End of eval phase << --\n",
      "\tTop1_Acc_Stream/eval_phase/test_stream/Task004 = 0.2795\n",
      "-- >> Start of training phase << --\n",
      "100%|████████████████████████████████████████████████████████████████████████████████████████████████████████████████████████████████████████████████████| 397/397 [00:05<00:00, 70.96it/s]\n",
      "Epoch 0 ended.\n",
      "\tTime_Epoch/train_phase/train_stream/Task001 = 5.5944\n",
      "\tTop1_Acc_Epoch/train_phase/train_stream/Task001 = 0.9730\n",
      "100%|████████████████████████████████████████████████████████████████████████████████████████████████████████████████████████████████████████████████████| 397/397 [00:05<00:00, 67.27it/s]\n",
      "Epoch 1 ended.\n",
      "\tTime_Epoch/train_phase/train_stream/Task001 = 5.9022\n",
      "\tTop1_Acc_Epoch/train_phase/train_stream/Task001 = 0.9897\n",
      "-- >> End of training phase << --\n",
      "-- >> Start of eval phase << --\n",
      "-- Starting eval on experience 0 (Task 0) from test stream --\n",
      "100%|█████████████████████████████████████████████████████████████████████████████████████████████████████████████████████████████████████████████████████| 58/58 [00:00<00:00, 100.35it/s]\n",
      "> Eval on experience 0 (Task 0) from test stream ended.\n",
      "\tTop1_Acc_Exp/eval_phase/test_stream/Task000/Exp000 = 0.9373\n",
      "-- Starting eval on experience 1 (Task 1) from test stream --\n",
      "100%|██████████████████████████████████████████████████████████████████████████████████████████████████████████████████████████████████████████████████████| 68/68 [00:00<00:00, 99.71it/s]\n",
      "> Eval on experience 1 (Task 1) from test stream ended.\n",
      "\tTop1_Acc_Exp/eval_phase/test_stream/Task001/Exp001 = 0.9917\n",
      "-- Starting eval on experience 2 (Task 2) from test stream --\n",
      "100%|█████████████████████████████████████████████████████████████████████████████████████████████████████████████████████████████████████████████████████| 62/62 [00:00<00:00, 101.47it/s]\n",
      "> Eval on experience 2 (Task 2) from test stream ended.\n",
      "\tTop1_Acc_Exp/eval_phase/test_stream/Task002/Exp002 = 0.5015\n",
      "-- Starting eval on experience 3 (Task 3) from test stream --\n",
      "100%|█████████████████████████████████████████████████████████████████████████████████████████████████████████████████████████████████████████████████████| 64/64 [00:00<00:00, 103.39it/s]\n",
      "> Eval on experience 3 (Task 3) from test stream ended.\n",
      "\tTop1_Acc_Exp/eval_phase/test_stream/Task003/Exp003 = 0.0000\n",
      "-- Starting eval on experience 4 (Task 4) from test stream --\n",
      "100%|██████████████████████████████████████████████████████████████████████████████████████████████████████████████████████████████████████████████████████| 63/63 [00:00<00:00, 92.10it/s]\n",
      "> Eval on experience 4 (Task 4) from test stream ended.\n",
      "\tTop1_Acc_Exp/eval_phase/test_stream/Task004/Exp004 = 0.0000\n",
      "-- >> End of eval phase << --\n",
      "\tTop1_Acc_Stream/eval_phase/test_stream/Task004 = 0.4863\n",
      "-- >> Start of training phase << --\n",
      "100%|████████████████████████████████████████████████████████████████████████████████████████████████████████████████████████████████████████████████████| 368/368 [00:05<00:00, 71.33it/s]\n",
      "Epoch 0 ended.\n",
      "\tTime_Epoch/train_phase/train_stream/Task002 = 5.1588\n",
      "\tTop1_Acc_Epoch/train_phase/train_stream/Task002 = 0.9669\n",
      "100%|████████████████████████████████████████████████████████████████████████████████████████████████████████████████████████████████████████████████████| 368/368 [00:05<00:00, 69.64it/s]\n",
      "Epoch 1 ended.\n",
      "\tTime_Epoch/train_phase/train_stream/Task002 = 5.2841\n",
      "\tTop1_Acc_Epoch/train_phase/train_stream/Task002 = 0.9913\n",
      "-- >> End of training phase << --\n",
      "-- >> Start of eval phase << --\n",
      "-- Starting eval on experience 0 (Task 0) from test stream --\n",
      "100%|█████████████████████████████████████████████████████████████████████████████████████████████████████████████████████████████████████████████████████| 58/58 [00:00<00:00, 108.21it/s]\n",
      "> Eval on experience 0 (Task 0) from test stream ended.\n",
      "\tTop1_Acc_Exp/eval_phase/test_stream/Task000/Exp000 = 0.9514\n",
      "-- Starting eval on experience 1 (Task 1) from test stream --\n",
      "100%|█████████████████████████████████████████████████████████████████████████████████████████████████████████████████████████████████████████████████████| 68/68 [00:00<00:00, 106.08it/s]\n",
      "> Eval on experience 1 (Task 1) from test stream ended.\n",
      "\tTop1_Acc_Exp/eval_phase/test_stream/Task001/Exp001 = 0.9672\n",
      "-- Starting eval on experience 2 (Task 2) from test stream --\n",
      "100%|██████████████████████████████████████████████████████████████████████████████████████████████████████████████████████████████████████████████████████| 62/62 [00:00<00:00, 92.81it/s]\n",
      "> Eval on experience 2 (Task 2) from test stream ended.\n",
      "\tTop1_Acc_Exp/eval_phase/test_stream/Task002/Exp002 = 0.9944\n",
      "-- Starting eval on experience 3 (Task 3) from test stream --\n",
      "100%|██████████████████████████████████████████████████████████████████████████████████████████████████████████████████████████████████████████████████████| 64/64 [00:00<00:00, 99.07it/s]\n",
      "> Eval on experience 3 (Task 3) from test stream ended.\n",
      "\tTop1_Acc_Exp/eval_phase/test_stream/Task003/Exp003 = 0.0000\n",
      "-- Starting eval on experience 4 (Task 4) from test stream --\n",
      "100%|██████████████████████████████████████████████████████████████████████████████████████████████████████████████████████████████████████████████████████| 63/63 [00:00<00:00, 89.87it/s]\n",
      "> Eval on experience 4 (Task 4) from test stream ended.\n",
      "\tTop1_Acc_Exp/eval_phase/test_stream/Task004/Exp004 = 0.0000\n",
      "-- >> End of eval phase << --\n",
      "\tTop1_Acc_Stream/eval_phase/test_stream/Task004 = 0.5799\n",
      "-- >> Start of training phase << --\n",
      "100%|████████████████████████████████████████████████████████████████████████████████████████████████████████████████████████████████████████████████████| 378/378 [00:05<00:00, 67.06it/s]\n",
      "Epoch 0 ended.\n",
      "\tTime_Epoch/train_phase/train_stream/Task003 = 5.6382\n",
      "\tTop1_Acc_Epoch/train_phase/train_stream/Task003 = 0.9537\n",
      "100%|████████████████████████████████████████████████████████████████████████████████████████████████████████████████████████████████████████████████████| 378/378 [00:05<00:00, 69.78it/s]\n",
      "Epoch 1 ended.\n",
      "\tTime_Epoch/train_phase/train_stream/Task003 = 5.4164\n",
      "\tTop1_Acc_Epoch/train_phase/train_stream/Task003 = 0.9796\n",
      "-- >> End of training phase << --\n",
      "-- >> Start of eval phase << --\n",
      "-- Starting eval on experience 0 (Task 0) from test stream --\n",
      "100%|██████████████████████████████████████████████████████████████████████████████████████████████████████████████████████████████████████████████████████| 58/58 [00:00<00:00, 99.31it/s]\n",
      "> Eval on experience 0 (Task 0) from test stream ended.\n",
      "\tTop1_Acc_Exp/eval_phase/test_stream/Task000/Exp000 = 0.9384\n",
      "-- Starting eval on experience 1 (Task 1) from test stream --\n",
      "100%|██████████████████████████████████████████████████████████████████████████████████████████████████████████████████████████████████████████████████████| 68/68 [00:00<00:00, 91.15it/s]\n",
      "> Eval on experience 1 (Task 1) from test stream ended.\n",
      "\tTop1_Acc_Exp/eval_phase/test_stream/Task001/Exp001 = 0.9746\n",
      "-- Starting eval on experience 2 (Task 2) from test stream --\n",
      "100%|██████████████████████████████████████████████████████████████████████████████████████████████████████████████████████████████████████████████████████| 62/62 [00:00<00:00, 95.53it/s]\n",
      "> Eval on experience 2 (Task 2) from test stream ended.\n",
      "\tTop1_Acc_Exp/eval_phase/test_stream/Task002/Exp002 = 0.9939\n",
      "-- Starting eval on experience 3 (Task 3) from test stream --\n",
      "100%|██████████████████████████████████████████████████████████████████████████████████████████████████████████████████████████████████████████████████████| 64/64 [00:00<00:00, 75.21it/s]\n",
      "> Eval on experience 3 (Task 3) from test stream ended.\n",
      "\tTop1_Acc_Exp/eval_phase/test_stream/Task003/Exp003 = 0.9817\n",
      "-- Starting eval on experience 4 (Task 4) from test stream --\n",
      "100%|██████████████████████████████████████████████████████████████████████████████████████████████████████████████████████████████████████████████████████| 63/63 [00:00<00:00, 85.71it/s]\n",
      "> Eval on experience 4 (Task 4) from test stream ended.\n",
      "\tTop1_Acc_Exp/eval_phase/test_stream/Task004/Exp004 = 0.0000\n",
      "-- >> End of eval phase << --\n",
      "\tTop1_Acc_Stream/eval_phase/test_stream/Task004 = 0.7772\n",
      "-- >> Start of training phase << --\n",
      "100%|████████████████████████████████████████████████████████████████████████████████████████████████████████████████████████████████████████████████████| 379/379 [00:05<00:00, 64.16it/s]\n",
      "Epoch 0 ended.\n",
      "\tTime_Epoch/train_phase/train_stream/Task004 = 5.9075\n",
      "\tTop1_Acc_Epoch/train_phase/train_stream/Task004 = 0.9656\n",
      "100%|████████████████████████████████████████████████████████████████████████████████████████████████████████████████████████████████████████████████████| 379/379 [00:05<00:00, 66.47it/s]\n",
      "Epoch 1 ended.\n",
      "\tTime_Epoch/train_phase/train_stream/Task004 = 5.7017\n",
      "\tTop1_Acc_Epoch/train_phase/train_stream/Task004 = 0.9880\n",
      "-- >> End of training phase << --\n",
      "-- >> Start of eval phase << --\n",
      "-- Starting eval on experience 0 (Task 0) from test stream --\n",
      "100%|█████████████████████████████████████████████████████████████████████████████████████████████████████████████████████████████████████████████████████| 58/58 [00:00<00:00, 106.42it/s]\n",
      "> Eval on experience 0 (Task 0) from test stream ended.\n",
      "\tTop1_Acc_Exp/eval_phase/test_stream/Task000/Exp000 = 0.9481\n",
      "-- Starting eval on experience 1 (Task 1) from test stream --\n",
      "100%|█████████████████████████████████████████████████████████████████████████████████████████████████████████████████████████████████████████████████████| 68/68 [00:00<00:00, 109.68it/s]\n",
      "> Eval on experience 1 (Task 1) from test stream ended.\n",
      "\tTop1_Acc_Exp/eval_phase/test_stream/Task001/Exp001 = 0.9746\n",
      "-- Starting eval on experience 2 (Task 2) from test stream --\n",
      "100%|█████████████████████████████████████████████████████████████████████████████████████████████████████████████████████████████████████████████████████| 62/62 [00:00<00:00, 106.90it/s]\n",
      "> Eval on experience 2 (Task 2) from test stream ended.\n",
      "\tTop1_Acc_Exp/eval_phase/test_stream/Task002/Exp002 = 0.9928\n",
      "-- Starting eval on experience 3 (Task 3) from test stream --\n",
      "100%|██████████████████████████████████████████████████████████████████████████████████████████████████████████████████████████████████████████████████████| 64/64 [00:00<00:00, 94.67it/s]\n",
      "> Eval on experience 3 (Task 3) from test stream ended.\n",
      "\tTop1_Acc_Exp/eval_phase/test_stream/Task003/Exp003 = 0.9708\n",
      "-- Starting eval on experience 4 (Task 4) from test stream --\n",
      "100%|█████████████████████████████████████████████████████████████████████████████████████████████████████████████████████████████████████████████████████| 63/63 [00:00<00:00, 104.83it/s]\n",
      "> Eval on experience 4 (Task 4) from test stream ended.\n",
      "\tTop1_Acc_Exp/eval_phase/test_stream/Task004/Exp004 = 0.9900\n",
      "-- >> End of eval phase << --\n",
      "\tTop1_Acc_Stream/eval_phase/test_stream/Task004 = 0.9756\n"
     ]
    }
   ],
   "source": [
    "# train and test loop over the stream of experiences\n",
    "results = []\n",
    "for train_exp in train_stream:\n",
    "    cl_strategy.train(train_exp)\n",
    "    results.append(cl_strategy.eval(test_stream))"
   ]
  },
  {
   "cell_type": "code",
   "execution_count": 8,
   "metadata": {
    "scrolled": true
   },
   "outputs": [
    {
     "data": {
      "text/plain": [
       "[{'Top1_Acc_Epoch/train_phase/train_stream/Task000': 0.979539641943734,\n",
       "  'Time_Epoch/train_phase/train_stream/Task000': 4.853341500042006,\n",
       "  'Top1_Acc_Exp/eval_phase/test_stream/Task000/Exp000': 0.981081081081081,\n",
       "  'Top1_Acc_Exp/eval_phase/test_stream/Task001/Exp001': 0.0,\n",
       "  'Top1_Acc_Exp/eval_phase/test_stream/Task002/Exp002': 0.5015353121801432,\n",
       "  'Top1_Acc_Exp/eval_phase/test_stream/Task003/Exp003': 0.0,\n",
       "  'Top1_Acc_Exp/eval_phase/test_stream/Task004/Exp004': 0.0,\n",
       "  'Top1_Acc_Stream/eval_phase/test_stream/Task004': 0.2795},\n",
       " {'Top1_Acc_Epoch/train_phase/train_stream/Task000': 0.979539641943734,\n",
       "  'Time_Epoch/train_phase/train_stream/Task000': 4.853341500042006,\n",
       "  'Top1_Acc_Exp/eval_phase/test_stream/Task000/Exp000': 0.9372972972972973,\n",
       "  'Top1_Acc_Exp/eval_phase/test_stream/Task001/Exp001': 0.991693585602215,\n",
       "  'Top1_Acc_Exp/eval_phase/test_stream/Task002/Exp002': 0.5015353121801432,\n",
       "  'Top1_Acc_Exp/eval_phase/test_stream/Task003/Exp003': 0.0,\n",
       "  'Top1_Acc_Exp/eval_phase/test_stream/Task004/Exp004': 0.0,\n",
       "  'Top1_Acc_Stream/eval_phase/test_stream/Task004': 0.4863,\n",
       "  'Top1_Acc_Epoch/train_phase/train_stream/Task001': 0.9896850393700788,\n",
       "  'Time_Epoch/train_phase/train_stream/Task001': 5.902210700092837},\n",
       " {'Top1_Acc_Epoch/train_phase/train_stream/Task000': 0.979539641943734,\n",
       "  'Time_Epoch/train_phase/train_stream/Task000': 4.853341500042006,\n",
       "  'Top1_Acc_Exp/eval_phase/test_stream/Task000/Exp000': 0.9513513513513514,\n",
       "  'Top1_Acc_Exp/eval_phase/test_stream/Task001/Exp001': 0.9672358098754038,\n",
       "  'Top1_Acc_Exp/eval_phase/test_stream/Task002/Exp002': 0.9943705220061413,\n",
       "  'Top1_Acc_Exp/eval_phase/test_stream/Task003/Exp003': 0.0,\n",
       "  'Top1_Acc_Exp/eval_phase/test_stream/Task004/Exp004': 0.0,\n",
       "  'Top1_Acc_Stream/eval_phase/test_stream/Task004': 0.5799,\n",
       "  'Top1_Acc_Epoch/train_phase/train_stream/Task001': 0.9896850393700788,\n",
       "  'Time_Epoch/train_phase/train_stream/Task001': 5.902210700092837,\n",
       "  'Top1_Acc_Epoch/train_phase/train_stream/Task002': 0.9912519109903176,\n",
       "  'Time_Epoch/train_phase/train_stream/Task002': 5.2840958999004215},\n",
       " {'Top1_Acc_Epoch/train_phase/train_stream/Task000': 0.979539641943734,\n",
       "  'Time_Epoch/train_phase/train_stream/Task000': 4.853341500042006,\n",
       "  'Top1_Acc_Exp/eval_phase/test_stream/Task000/Exp000': 0.9383783783783783,\n",
       "  'Top1_Acc_Exp/eval_phase/test_stream/Task001/Exp001': 0.9746192893401016,\n",
       "  'Top1_Acc_Exp/eval_phase/test_stream/Task002/Exp002': 0.9938587512794268,\n",
       "  'Top1_Acc_Exp/eval_phase/test_stream/Task003/Exp003': 0.9816740960871718,\n",
       "  'Top1_Acc_Exp/eval_phase/test_stream/Task004/Exp004': 0.0,\n",
       "  'Top1_Acc_Stream/eval_phase/test_stream/Task004': 0.7772,\n",
       "  'Top1_Acc_Epoch/train_phase/train_stream/Task001': 0.9896850393700788,\n",
       "  'Time_Epoch/train_phase/train_stream/Task001': 5.902210700092837,\n",
       "  'Top1_Acc_Epoch/train_phase/train_stream/Task002': 0.9912519109903176,\n",
       "  'Time_Epoch/train_phase/train_stream/Task002': 5.2840958999004215,\n",
       "  'Top1_Acc_Epoch/train_phase/train_stream/Task003': 0.9795529801324503,\n",
       "  'Time_Epoch/train_phase/train_stream/Task003': 5.416420900030062},\n",
       " {'Top1_Acc_Epoch/train_phase/train_stream/Task000': 0.979539641943734,\n",
       "  'Time_Epoch/train_phase/train_stream/Task000': 4.853341500042006,\n",
       "  'Top1_Acc_Exp/eval_phase/test_stream/Task000/Exp000': 0.9481081081081081,\n",
       "  'Top1_Acc_Exp/eval_phase/test_stream/Task001/Exp001': 0.9746192893401016,\n",
       "  'Top1_Acc_Exp/eval_phase/test_stream/Task002/Exp002': 0.9928352098259979,\n",
       "  'Top1_Acc_Exp/eval_phase/test_stream/Task003/Exp003': 0.9707776126795443,\n",
       "  'Top1_Acc_Exp/eval_phase/test_stream/Task004/Exp004': 0.9900497512437811,\n",
       "  'Top1_Acc_Stream/eval_phase/test_stream/Task004': 0.9756,\n",
       "  'Top1_Acc_Epoch/train_phase/train_stream/Task001': 0.9896850393700788,\n",
       "  'Time_Epoch/train_phase/train_stream/Task001': 5.902210700092837,\n",
       "  'Top1_Acc_Epoch/train_phase/train_stream/Task002': 0.9912519109903176,\n",
       "  'Time_Epoch/train_phase/train_stream/Task002': 5.2840958999004215,\n",
       "  'Top1_Acc_Epoch/train_phase/train_stream/Task003': 0.9795529801324503,\n",
       "  'Time_Epoch/train_phase/train_stream/Task003': 5.416420900030062,\n",
       "  'Top1_Acc_Epoch/train_phase/train_stream/Task004': 0.9880234575039234,\n",
       "  'Time_Epoch/train_phase/train_stream/Task004': 5.701745100086555}]"
      ]
     },
     "execution_count": 8,
     "metadata": {},
     "output_type": "execute_result"
    }
   ],
   "source": [
    "results"
   ]
  },
  {
   "cell_type": "code",
   "execution_count": 9,
   "metadata": {
    "scrolled": true
   },
   "outputs": [
    {
     "data": {
      "text/plain": [
       "defaultdict(<function avalanche.training.plugins.evaluation._init_metrics_list_lambda()>,\n",
       "            {'Top1_Acc_Epoch/train_phase/train_stream/Task000': ([355, 710],\n",
       "              [0.947702619278596, 0.979539641943734]),\n",
       "             'Time_Epoch/train_phase/train_stream/Task000': ([355, 710],\n",
       "              [5.210541600128636, 4.853341500042006]),\n",
       "             'Top1_Acc_Exp/eval_phase/test_stream/Task000/Exp000': ([710,\n",
       "               1504,\n",
       "               2240,\n",
       "               2996,\n",
       "               3754],\n",
       "              [0.981081081081081,\n",
       "               0.9372972972972973,\n",
       "               0.9513513513513514,\n",
       "               0.9383783783783783,\n",
       "               0.9481081081081081]),\n",
       "             'Top1_Acc_Exp/eval_phase/test_stream/Task001/Exp001': ([710,\n",
       "               1504,\n",
       "               2240,\n",
       "               2996,\n",
       "               3754],\n",
       "              [0.0,\n",
       "               0.991693585602215,\n",
       "               0.9672358098754038,\n",
       "               0.9746192893401016,\n",
       "               0.9746192893401016]),\n",
       "             'Top1_Acc_Exp/eval_phase/test_stream/Task002/Exp002': ([710,\n",
       "               1504,\n",
       "               2240,\n",
       "               2996,\n",
       "               3754],\n",
       "              [0.5015353121801432,\n",
       "               0.5015353121801432,\n",
       "               0.9943705220061413,\n",
       "               0.9938587512794268,\n",
       "               0.9928352098259979]),\n",
       "             'Top1_Acc_Exp/eval_phase/test_stream/Task003/Exp003': ([710,\n",
       "               1504,\n",
       "               2240,\n",
       "               2996,\n",
       "               3754],\n",
       "              [0.0, 0.0, 0.0, 0.9816740960871718, 0.9707776126795443]),\n",
       "             'Top1_Acc_Exp/eval_phase/test_stream/Task004/Exp004': ([710,\n",
       "               1504,\n",
       "               2240,\n",
       "               2996,\n",
       "               3754],\n",
       "              [0.0, 0.0, 0.0, 0.0, 0.9900497512437811]),\n",
       "             'Top1_Acc_Stream/eval_phase/test_stream/Task004': ([710,\n",
       "               1504,\n",
       "               2240,\n",
       "               2996,\n",
       "               3754],\n",
       "              [0.2795, 0.4863, 0.5799, 0.7772, 0.9756]),\n",
       "             'Top1_Acc_Epoch/train_phase/train_stream/Task001': ([1107, 1504],\n",
       "              [0.972992125984252, 0.9896850393700788]),\n",
       "             'Time_Epoch/train_phase/train_stream/Task001': ([1107, 1504],\n",
       "              [5.5944099999032915, 5.902210700092837]),\n",
       "             'Top1_Acc_Epoch/train_phase/train_stream/Task002': ([1872, 2240],\n",
       "              [0.9668761678274164, 0.9912519109903176]),\n",
       "             'Time_Epoch/train_phase/train_stream/Task002': ([1872, 2240],\n",
       "              [5.15882180002518, 5.2840958999004215]),\n",
       "             'Top1_Acc_Epoch/train_phase/train_stream/Task003': ([2618, 2996],\n",
       "              [0.9537251655629139, 0.9795529801324503]),\n",
       "             'Time_Epoch/train_phase/train_stream/Task003': ([2618, 2996],\n",
       "              [5.638224000111222, 5.416420900030062]),\n",
       "             'Top1_Acc_Epoch/train_phase/train_stream/Task004': ([3375, 3754],\n",
       "              [0.9655571157181796, 0.9880234575039234]),\n",
       "             'Time_Epoch/train_phase/train_stream/Task004': ([3375, 3754],\n",
       "              [5.907480200054124, 5.701745100086555])})"
      ]
     },
     "execution_count": 9,
     "metadata": {},
     "output_type": "execute_result"
    }
   ],
   "source": [
    "cl_strategy.evaluator.get_all_metrics()"
   ]
  },
  {
   "cell_type": "code",
   "execution_count": 16,
   "metadata": {},
   "outputs": [
    {
     "name": "stdout",
     "output_type": "stream",
     "text": [
      "Top1_Acc_Exp/eval_phase/test_stream/Task000/Exp000\n",
      "Top1_Acc_Exp/eval_phase/test_stream/Task001/Exp001\n",
      "Top1_Acc_Exp/eval_phase/test_stream/Task002/Exp002\n",
      "Top1_Acc_Exp/eval_phase/test_stream/Task003/Exp003\n",
      "Top1_Acc_Exp/eval_phase/test_stream/Task004/Exp004\n"
     ]
    },
    {
     "data": {
      "text/plain": [
       "<matplotlib.legend.Legend at 0x1f9a1786c90>"
      ]
     },
     "execution_count": 16,
     "metadata": {},
     "output_type": "execute_result"
    },
    {
     "data": {
      "image/png": "[encoded data removed]",
      "text/plain": [
       "<Figure size 640x480 with 1 Axes>"
      ]
     },
     "metadata": {},
     "output_type": "display_data"
    }
   ],
   "source": [
    "import matplotlib.pyplot as plt\n",
    "allres = cl_strategy.evaluator.get_all_metrics()\n",
    "for tid in range(5):\n",
    "    mname = f\"Top1_Acc_Exp/eval_phase/test_stream/Task00{tid}/Exp00{tid}\"\n",
    "    print(mname)\n",
    "    plt.plot(allres[mname][0], allres[mname][1], label=f\"T{tid}\")\n",
    "plt.legend()"
   ]
  },
  {
   "cell_type": "code",
   "execution_count": null,
   "metadata": {},
   "outputs": [],
   "source": []
  }
 ],
 "metadata": {
  "kernelspec": {
   "display_name": "Python 3 (ipykernel)",
   "language": "python",
   "name": "python3"
  },
  "language_info": {
   "codemirror_mode": {
    "name": "ipython",
    "version": 3
   },
   "file_extension": ".py",
   "mimetype": "text/x-python",
   "name": "python",
   "nbconvert_exporter": "python",
   "pygments_lexer": "ipython3",
   "version": "3.11.0"
  }
 },
 "nbformat": 4,
 "nbformat_minor": 4
}
