{
 "cells": [
  {
   "cell_type": "markdown",
   "id": "3a79a27e",
   "metadata": {},
   "source": [
    "# Catastrophic Forgetting"
   ]
  },
  {
   "cell_type": "markdown",
   "id": "6a58f322",
   "metadata": {},
   "source": [
    "install dependencies:"
   ]
  },
  {
   "cell_type": "code",
   "execution_count": null,
   "id": "c79ac545",
   "metadata": {},
   "outputs": [],
   "source": [
    "!pip install avalanche-lib==0.5.0"
   ]
  },
  {
   "cell_type": "markdown",
   "id": "d6c7e729",
   "metadata": {},
   "source": [
    "tested with:\n",
    "- python 3.10\n",
    "- avalanche 0.5.0"
   ]
  },
  {
   "cell_type": "code",
   "execution_count": 2,
   "id": "9ad2b7f2",
   "metadata": {},
   "outputs": [],
   "source": [
    "import torch\n",
    "import avalanche\n",
    "import torchvision\n",
    "import matplotlib.pyplot as plt"
   ]
  },
  {
   "cell_type": "markdown",
   "id": "9de9648a",
   "metadata": {},
   "source": [
    "# Dataset\n",
    "We start by loading CIFAR10. Unlike the previous exercises, now we split it into two datasets of 5 classes each."
   ]
  },
  {
   "cell_type": "code",
   "execution_count": 15,
   "id": "8b171887",
   "metadata": {},
   "outputs": [
    {
     "name": "stdout",
     "output_type": "stream",
     "text": [
      "Files already downloaded and verified\n",
      "Files already downloaded and verified\n"
     ]
    }
   ],
   "source": [
    "from avalanche.benchmarks import SplitCIFAR10\n",
    "from avalanche.benchmarks import benchmark_with_validation_stream, with_task_labels\n",
    "\n",
    "benchmark = SplitCIFAR10(n_experiences=2)"
   ]
  },
  {
   "cell_type": "code",
   "execution_count": 16,
   "id": "a7d511c6",
   "metadata": {},
   "outputs": [
    {
     "data": {
      "text/plain": [
       "([1, 2, 3, 4, 9], [0, 5, 6, 7, 8])"
      ]
     },
     "execution_count": 16,
     "metadata": {},
     "output_type": "execute_result"
    }
   ],
   "source": [
    "e0, e1 = benchmark.train_stream\n",
    "e0.classes_in_this_experience, e1.classes_in_this_experience"
   ]
  },
  {
   "cell_type": "code",
   "execution_count": 17,
   "id": "9e91e4e0",
   "metadata": {},
   "outputs": [
    {
     "data": {
      "text/plain": [
       "(0, 0)"
      ]
     },
     "execution_count": 17,
     "metadata": {},
     "output_type": "execute_result"
    }
   ],
   "source": [
    "e0.task_label, e1.task_label"
   ]
  },
  {
   "cell_type": "markdown",
   "id": "b07d5923",
   "metadata": {},
   "source": [
    "# Training - Naive Finetuning\n",
    "We import the model directly from Avalanche.\n",
    "\n",
    "Naive finetuning is the standard SGD algorithm applied sequentially to each experience. We don't freeze any parameter."
   ]
  },
  {
   "cell_type": "code",
   "execution_count": 18,
   "id": "89d39ef4",
   "metadata": {},
   "outputs": [],
   "source": [
    "def train(exp, model, optimizer, criterion):\n",
    "    model.train()\n",
    "    train_data = exp.dataset\n",
    "    train_data = train_data.train()\n",
    "\n",
    "    for ep in range(1):  # increase epochs if necessary\n",
    "        dataloader = DataLoader(train_data, batch_size=32)\n",
    "        pbar = tqdm(dataloader)\n",
    "        for (x, y, _) in pbar:\n",
    "            x, y = x.to(device), y.to(device)\n",
    "            optimizer.zero_grad()   \n",
    "            pred = model(x)\n",
    "            loss = criterion(pred, y)\n",
    "            loss.backward()\n",
    "            optimizer.step()\n",
    "            pbar.set_description(f\"Loss: {loss.item():0.4f}\")"
   ]
  },
  {
   "cell_type": "code",
   "execution_count": 19,
   "id": "b21d3fea",
   "metadata": {},
   "outputs": [
    {
     "name": "stderr",
     "output_type": "stream",
     "text": [
      "Loss: 0.0054: 100%|██████████████████████████████████████████████████████████████████████████████████████████████████████████████████████████████████████| 782/782 [02:38<00:00,  4.93it/s]\n",
      "Loss: 0.0049: 100%|██████████████████████████████████████████████████████████████████████████████████████████████████████████████████████████████████████| 782/782 [02:38<00:00,  4.93it/s]\n"
     ]
    }
   ],
   "source": [
    "from tqdm import tqdm\n",
    "from avalanche.models import SlimResNet18\n",
    "from torch.utils.data import DataLoader\n",
    "\n",
    "device = 'cpu'  # do yourself a favor and use a gpu by setting device='cuda'\n",
    "model = SlimResNet18(nclasses=100)\n",
    "model = model.to(device)\n",
    "optimizer = torch.optim.SGD(model.parameters(), lr=0.01)\n",
    "criterion = torch.nn.CrossEntropyLoss()\n",
    "\n",
    "# We train sequentially on each experience of the stream\n",
    "for exp in benchmark.train_stream:\n",
    "    train(exp, model, optimizer, criterion)"
   ]
  },
  {
   "cell_type": "markdown",
   "id": "a017e21f",
   "metadata": {},
   "source": [
    "# Evaluation"
   ]
  },
  {
   "cell_type": "code",
   "execution_count": 22,
   "id": "19ee98f9",
   "metadata": {},
   "outputs": [],
   "source": [
    "def eval(exp, model):\n",
    "    model = model.eval()\n",
    "    valid_data = exp.dataset\n",
    "    valid_data = valid_data.eval()\n",
    "    dataloader = DataLoader(valid_data, batch_size=32)\n",
    "    pbar = tqdm(dataloader)\n",
    "    correct, tot = 0, 0\n",
    "    for (x, y, _) in pbar:\n",
    "        x, y = x.to(device), y.to(device)\n",
    "        pred = model(x)\n",
    "        _, pred = torch.max(pred.data, 1)\n",
    "        correct += (pred == y).sum().item()\n",
    "        tot += x.shape[0]\n",
    "        pbar.set_description(f\"ACC: {correct / tot:.4f}\")"
   ]
  },
  {
   "cell_type": "code",
   "execution_count": 23,
   "id": "f079156f",
   "metadata": {},
   "outputs": [
    {
     "name": "stderr",
     "output_type": "stream",
     "text": [
      "ACC: 0.0000: 100%|███████████████████████████████████████████████████████████████████████████████████████████████████████████████████████████████████████| 157/157 [00:10<00:00, 14.91it/s]\n",
      "ACC: 0.2000: 100%|███████████████████████████████████████████████████████████████████████████████████████████████████████████████████████████████████████| 157/157 [00:10<00:00, 14.35it/s]\n"
     ]
    }
   ],
   "source": [
    "for exp in benchmark.test_stream:\n",
    "    eval(exp, model)"
   ]
  },
  {
   "cell_type": "markdown",
   "id": "4ff20794-1fee-44fd-8434-79033e73f343",
   "metadata": {},
   "source": [
    "# Training - Naive Finetuning"
   ]
  },
  {
   "cell_type": "markdown",
   "id": "01096e38-553d-4794-8ce1-980727f95b54",
   "metadata": {},
   "source": [
    "Naive finetuning results in a very dramatic forgetting, where the previous experiences are forgotten."
   ]
  },
  {
   "cell_type": "code",
   "execution_count": 33,
   "id": "1d3c9bd1-6ea5-4527-9a1a-b3d42803e919",
   "metadata": {},
   "outputs": [
    {
     "name": "stdout",
     "output_type": "stream",
     "text": [
      "Files already downloaded and verified\n",
      "Files already downloaded and verified\n",
      "-- >> Start of training phase << --\n",
      "100%|████████████████████████████████████████████████████████████████████████████████████████████████████████████████████████████████████████████████████| 782/782 [03:19<00:00,  3.91it/s]\n",
      "Epoch 0 ended.\n",
      "\tLoss_Epoch/train_phase/train_stream/Task000 = 1.2235\n",
      "\tTop1_Acc_Epoch/train_phase/train_stream/Task000 = 0.5137\n",
      "-- >> End of training phase << --\n",
      "-- >> Start of eval phase << --\n",
      "-- Starting eval on experience 0 (Task 0) from test stream --\n",
      "100%|████████████████████████████████████████████████████████████████████████████████████████████████████████████████████████████████████████████████████| 157/157 [00:11<00:00, 13.81it/s]\n",
      "> Eval on experience 0 (Task 0) from test stream ended.\n",
      "\tLoss_Exp/eval_phase/test_stream/Task000/Exp000 = 1.0284\n",
      "\tTop1_Acc_Exp/eval_phase/test_stream/Task000/Exp000 = 0.5902\n",
      "-- Starting eval on experience 1 (Task 1) from test stream --\n",
      "100%|████████████████████████████████████████████████████████████████████████████████████████████████████████████████████████████████████████████████████| 157/157 [00:13<00:00, 11.42it/s]\n",
      "> Eval on experience 1 (Task 1) from test stream ended.\n",
      "\tLoss_Exp/eval_phase/test_stream/Task001/Exp001 = 12.2076\n",
      "\tTop1_Acc_Exp/eval_phase/test_stream/Task001/Exp001 = 0.0000\n",
      "-- >> End of eval phase << --\n",
      "\tLoss_Stream/eval_phase/test_stream/Task001 = 6.6180\n",
      "\tTop1_Acc_Stream/eval_phase/test_stream/Task001 = 0.2951\n",
      "-- >> Start of training phase << --\n",
      "100%|████████████████████████████████████████████████████████████████████████████████████████████████████████████████████████████████████████████████████| 782/782 [02:57<00:00,  4.41it/s]\n",
      "Epoch 0 ended.\n",
      "\tLoss_Epoch/train_phase/train_stream/Task001 = 0.9889\n",
      "\tTop1_Acc_Epoch/train_phase/train_stream/Task001 = 0.6382\n",
      "-- >> End of training phase << --\n",
      "-- >> Start of eval phase << --\n",
      "-- Starting eval on experience 0 (Task 0) from test stream --\n",
      "100%|████████████████████████████████████████████████████████████████████████████████████████████████████████████████████████████████████████████████████| 157/157 [00:10<00:00, 14.45it/s]\n",
      "> Eval on experience 0 (Task 0) from test stream ended.\n",
      "\tLoss_Exp/eval_phase/test_stream/Task000/Exp000 = 8.5749\n",
      "\tTop1_Acc_Exp/eval_phase/test_stream/Task000/Exp000 = 0.0000\n",
      "-- Starting eval on experience 1 (Task 1) from test stream --\n",
      "100%|████████████████████████████████████████████████████████████████████████████████████████████████████████████████████████████████████████████████████| 157/157 [00:10<00:00, 14.98it/s]\n",
      "> Eval on experience 1 (Task 1) from test stream ended.\n",
      "\tLoss_Exp/eval_phase/test_stream/Task001/Exp001 = 1.1426\n",
      "\tTop1_Acc_Exp/eval_phase/test_stream/Task001/Exp001 = 0.6194\n",
      "-- >> End of eval phase << --\n",
      "\tLoss_Stream/eval_phase/test_stream/Task001 = 4.8587\n",
      "\tTop1_Acc_Stream/eval_phase/test_stream/Task001 = 0.3097\n"
     ]
    }
   ],
   "source": [
    "from avalanche.training import Naive\n",
    "from avalanche.training.plugins import EvaluationPlugin\n",
    "from avalanche.evaluation.metrics import accuracy_metrics\n",
    "from avalanche.logging import InteractiveLogger\n",
    "\n",
    "# a benchmark with task labels. We will not use task labels for training.\n",
    "benchmark = SplitCIFAR10(n_experiences=2, return_task_id=True)\n",
    "\n",
    "device = 'cpu'  # do yourself a favor and use a gpu by setting device='cuda'\n",
    "model = SlimResNet18(nclasses=100)\n",
    "\n",
    "# change the classifier to a multi-head classifier\n",
    "model = model.to(device)\n",
    "optimizer = torch.optim.SGD(model.parameters(), lr=0.01)\n",
    "criterion = torch.nn.CrossEntropyLoss()\n",
    "\n",
    "# naive is the naive finetuning, the same training method that we used above\n",
    "eval_plugin = EvaluationPlugin(\n",
    "    accuracy_metrics(experience=True, stream=True),\n",
    "    loggers=[InteractiveLogger()]\n",
    ")\n",
    "strategy = Naive(\n",
    "    model=model, \n",
    "    optimizer=optimizer, \n",
    "    criterion=criterion, \n",
    "    train_mb_size=32, train_epochs=1\n",
    ")\n",
    "\n",
    "for exp in benchmark.train_stream:\n",
    "    strategy.train(exp)\n",
    "    strategy.eval(benchmark.test_stream)"
   ]
  },
  {
   "cell_type": "code",
   "execution_count": 42,
   "id": "07e9005c-a568-4a97-a0ab-414989fd2f5e",
   "metadata": {},
   "outputs": [
    {
     "name": "stdout",
     "output_type": "stream",
     "text": [
      "Top1_Acc_Exp/eval_phase/test_stream/Task000/Exp000\n",
      "Top1_Acc_Exp/eval_phase/test_stream/Task001/Exp001\n"
     ]
    },
    {
     "data": {
      "text/plain": [
       "Text(0.5, 1.0, 'Experience Accuracy over time - Test stream')"
      ]
     },
     "execution_count": 42,
     "metadata": {},
     "output_type": "execute_result"
    },
    {
     "data": {
      "image/png": "[encoded data removed]",
      "text/plain": [
       "<Figure size 640x480 with 1 Axes>"
      ]
     },
     "metadata": {},
     "output_type": "display_data"
    }
   ],
   "source": [
    "import matplotlib.pyplot as plt\n",
    "allres = strategy.evaluator.get_all_metrics()\n",
    "for tid in range(2):\n",
    "    mname = f\"Top1_Acc_Exp/eval_phase/test_stream/Task00{tid}/Exp00{tid}\"\n",
    "    print(mname)\n",
    "    plt.plot(allres[mname][0], allres[mname][1], label=f\"T{tid}\")\n",
    "plt.legend()\n",
    "plt.title(\"Experience Accuracy over time - Test stream\")"
   ]
  },
  {
   "cell_type": "markdown",
   "id": "9080e9a3",
   "metadata": {},
   "source": [
    "# Training - MultiTask\n",
    "\n",
    "The previous baseline was not using task labels. What happens if you finetune the model but you use a multi-head classifier?\n",
    "\n",
    "We are going to use Avalanche for the implementation. We are going to look at the implementation in a future lecture."
   ]
  },
  {
   "cell_type": "code",
   "execution_count": 44,
   "id": "709590f3",
   "metadata": {},
   "outputs": [
    {
     "name": "stdout",
     "output_type": "stream",
     "text": [
      "Files already downloaded and verified\n",
      "Files already downloaded and verified\n",
      "-- >> Start of training phase << --\n",
      "100%|████████████████████████████████████████████████████████████████████████████████████████████████████████████████████████████████████████████████████| 782/782 [02:39<00:00,  4.90it/s]\n",
      "Epoch 0 ended.\n",
      "-- >> End of training phase << --\n",
      "-- >> Start of eval phase << --\n",
      "-- Starting eval on experience 0 (Task 0) from test stream --\n",
      "100%|████████████████████████████████████████████████████████████████████████████████████████████████████████████████████████████████████████████████████| 157/157 [00:10<00:00, 14.80it/s]\n",
      "> Eval on experience 0 (Task 0) from test stream ended.\n",
      "\tTop1_Acc_Exp/eval_phase/test_stream/Task000/Exp000 = 0.6494\n",
      "-- Starting eval on experience 1 (Task 1) from test stream --\n",
      "100%|████████████████████████████████████████████████████████████████████████████████████████████████████████████████████████████████████████████████████| 157/157 [00:10<00:00, 14.99it/s]\n",
      "> Eval on experience 1 (Task 1) from test stream ended.\n",
      "\tTop1_Acc_Exp/eval_phase/test_stream/Task001/Exp001 = 0.2000\n",
      "-- >> End of eval phase << --\n",
      "\tTop1_Acc_Stream/eval_phase/test_stream/Task001 = 0.4247\n",
      "-- >> Start of training phase << --\n",
      "100%|████████████████████████████████████████████████████████████████████████████████████████████████████████████████████████████████████████████████████| 782/782 [02:42<00:00,  4.81it/s]\n",
      "Epoch 0 ended.\n",
      "-- >> End of training phase << --\n",
      "-- >> Start of eval phase << --\n",
      "-- Starting eval on experience 0 (Task 0) from test stream --\n",
      "100%|████████████████████████████████████████████████████████████████████████████████████████████████████████████████████████████████████████████████████| 157/157 [00:11<00:00, 13.85it/s]\n",
      "> Eval on experience 0 (Task 0) from test stream ended.\n",
      "\tTop1_Acc_Exp/eval_phase/test_stream/Task000/Exp000 = 0.4960\n",
      "-- Starting eval on experience 1 (Task 1) from test stream --\n",
      "100%|████████████████████████████████████████████████████████████████████████████████████████████████████████████████████████████████████████████████████| 157/157 [00:11<00:00, 13.45it/s]\n",
      "> Eval on experience 1 (Task 1) from test stream ended.\n",
      "\tTop1_Acc_Exp/eval_phase/test_stream/Task001/Exp001 = 0.6066\n",
      "-- >> End of eval phase << --\n",
      "\tTop1_Acc_Stream/eval_phase/test_stream/Task001 = 0.5513\n"
     ]
    }
   ],
   "source": [
    "from avalanche.training import Naive\n",
    "from avalanche.models import as_multitask\n",
    "\n",
    "# a benchmark with task labels\n",
    "benchmark = SplitCIFAR10(n_experiences=2, return_task_id=True)\n",
    "\n",
    "device = 'cpu'  # do yourself a favor and use a gpu by setting device='cuda'\n",
    "model = SlimResNet18(nclasses=100)\n",
    "\n",
    "# change the classifier to a multi-head classifier\n",
    "model = as_multitask(model, \"linear\")\n",
    "model = model.to(device)\n",
    "optimizer = torch.optim.SGD(model.parameters(), lr=0.01)\n",
    "criterion = torch.nn.CrossEntropyLoss()\n",
    "\n",
    "# naive is the naive finetuning, the same training method that we used above\n",
    "eval_plugin = EvaluationPlugin(\n",
    "    accuracy_metrics(experience=True, stream=True),\n",
    "    loggers=[InteractiveLogger()]\n",
    ")\n",
    "strategy = Naive(\n",
    "    model=model, \n",
    "    optimizer=optimizer, \n",
    "    criterion=criterion, \n",
    "    train_mb_size=32, train_epochs=1,\n",
    "    evaluator=eval_plugin\n",
    ")\n",
    "\n",
    "for exp in benchmark.train_stream:\n",
    "    strategy.train(exp)\n",
    "    strategy.eval(benchmark.test_stream)"
   ]
  },
  {
   "cell_type": "code",
   "execution_count": 45,
   "id": "89bd28cf-ddfb-4a0c-aeaa-687dcdba1eeb",
   "metadata": {},
   "outputs": [
    {
     "name": "stdout",
     "output_type": "stream",
     "text": [
      "Top1_Acc_Exp/eval_phase/test_stream/Task000/Exp000\n",
      "Top1_Acc_Exp/eval_phase/test_stream/Task001/Exp001\n",
      "Top1_Acc_Exp/eval_phase/test_stream/Task002/Exp002\n",
      "Top1_Acc_Exp/eval_phase/test_stream/Task003/Exp003\n",
      "Top1_Acc_Exp/eval_phase/test_stream/Task004/Exp004\n"
     ]
    },
    {
     "data": {
      "text/plain": [
       "<matplotlib.legend.Legend at 0x2342f5d4a50>"
      ]
     },
     "execution_count": 45,
     "metadata": {},
     "output_type": "execute_result"
    },
    {
     "data": {
      "image/png": "[encoded data removed]",
      "text/plain": [
       "<Figure size 640x480 with 1 Axes>"
      ]
     },
     "metadata": {},
     "output_type": "display_data"
    }
   ],
   "source": [
    "import matplotlib.pyplot as plt\n",
    "allres = strategy.evaluator.get_all_metrics()\n",
    "for tid in range(5):\n",
    "    mname = f\"Top1_Acc_Exp/eval_phase/test_stream/Task00{tid}/Exp00{tid}\"\n",
    "    print(mname)\n",
    "    plt.plot(allres[mname][0], allres[mname][1], label=f\"T{tid}\")\n",
    "plt.legend()"
   ]
  },
  {
   "cell_type": "markdown",
   "id": "1a1884c7",
   "metadata": {},
   "source": [
    "What's happening here? Why do we have forgetting even though we are using task labels?"
   ]
  },
  {
   "cell_type": "markdown",
   "id": "a004a210",
   "metadata": {},
   "source": [
    "# Training - Cumulative\n",
    "Cumulative trains each step on all the data seen up to now:\n",
    "- t=0 -> train on Exp0\n",
    "- t=1 -> train on Exp0 U Exp1, starting from the previous model\n",
    "\n",
    "..."
   ]
  },
  {
   "cell_type": "code",
   "execution_count": 46,
   "id": "209ee3c8",
   "metadata": {},
   "outputs": [
    {
     "name": "stdout",
     "output_type": "stream",
     "text": [
      "-- >> Start of training phase << --\n",
      "100%|████████████████████████████████████████████████████████████████████████████████████████████████████████████████████████████████████████████████████| 782/782 [02:42<00:00,  4.80it/s]\n",
      "Epoch 0 ended.\n",
      "\tLoss_Epoch/train_phase/train_stream/Task000 = 1.0451\n",
      "\tTop1_Acc_Epoch/train_phase/train_stream/Task000 = 0.5992\n",
      "-- >> End of training phase << --\n",
      "-- >> Start of eval phase << --\n",
      "-- Starting eval on experience 0 (Task 0) from test stream --\n",
      "100%|████████████████████████████████████████████████████████████████████████████████████████████████████████████████████████████████████████████████████| 157/157 [00:10<00:00, 15.47it/s]\n",
      "> Eval on experience 0 (Task 0) from test stream ended.\n",
      "\tLoss_Exp/eval_phase/test_stream/Task000/Exp000 = 0.8021\n",
      "\tTop1_Acc_Exp/eval_phase/test_stream/Task000/Exp000 = 0.7094\n",
      "-- Starting eval on experience 1 (Task 1) from test stream --\n",
      "100%|████████████████████████████████████████████████████████████████████████████████████████████████████████████████████████████████████████████████████| 157/157 [00:10<00:00, 14.81it/s]\n",
      "> Eval on experience 1 (Task 1) from test stream ended.\n",
      "\tLoss_Exp/eval_phase/test_stream/Task001/Exp001 = 11.3822\n",
      "\tTop1_Acc_Exp/eval_phase/test_stream/Task001/Exp001 = 0.0000\n",
      "-- >> End of eval phase << --\n",
      "\tLoss_Stream/eval_phase/test_stream/Task001 = 6.0922\n",
      "\tTop1_Acc_Stream/eval_phase/test_stream/Task001 = 0.3547\n",
      "-- >> Start of training phase << --\n",
      "100%|██████████████████████████████████████████████████████████████████████████████████████████████████████████████████████████████████████████████████| 1563/1563 [05:28<00:00,  4.76it/s]\n",
      "Epoch 0 ended.\n",
      "\tLoss_Epoch/train_phase/train_stream/Task001 = 1.3433\n",
      "\tTop1_Acc_Epoch/train_phase/train_stream/Task001 = 0.5241\n",
      "-- >> End of training phase << --\n",
      "-- >> Start of eval phase << --\n",
      "-- Starting eval on experience 0 (Task 0) from test stream --\n",
      "100%|████████████████████████████████████████████████████████████████████████████████████████████████████████████████████████████████████████████████████| 157/157 [00:11<00:00, 14.02it/s]\n",
      "> Eval on experience 0 (Task 0) from test stream ended.\n",
      "\tLoss_Exp/eval_phase/test_stream/Task000/Exp000 = 1.3295\n",
      "\tTop1_Acc_Exp/eval_phase/test_stream/Task000/Exp000 = 0.4974\n",
      "-- Starting eval on experience 1 (Task 1) from test stream --\n",
      "100%|████████████████████████████████████████████████████████████████████████████████████████████████████████████████████████████████████████████████████| 157/157 [00:10<00:00, 14.47it/s]\n",
      "> Eval on experience 1 (Task 1) from test stream ended.\n",
      "\tLoss_Exp/eval_phase/test_stream/Task001/Exp001 = 0.9508\n",
      "\tTop1_Acc_Exp/eval_phase/test_stream/Task001/Exp001 = 0.6848\n",
      "-- >> End of eval phase << --\n",
      "\tLoss_Stream/eval_phase/test_stream/Task001 = 1.1401\n",
      "\tTop1_Acc_Stream/eval_phase/test_stream/Task001 = 0.5911\n"
     ]
    }
   ],
   "source": [
    "from avalanche.training import Cumulative\n",
    "\n",
    "device = 'cpu'  # do yourself a favor and use a gpu by setting device='cuda'\n",
    "model = SlimResNet18(nclasses=100)\n",
    "model = model.to(device)\n",
    "optimizer = torch.optim.SGD(model.parameters(), lr=0.01)\n",
    "criterion = torch.nn.CrossEntropyLoss()\n",
    "\n",
    "eval_plugin = EvaluationPlugin(\n",
    "    accuracy_metrics(experience=True, stream=True),\n",
    "    loggers=[InteractiveLogger()]\n",
    ")\n",
    "strategy = Cumulative(\n",
    "    model=model, \n",
    "    optimizer=optimizer, \n",
    "    criterion=criterion, \n",
    "    train_mb_size=32, train_epochs=1\n",
    ")\n",
    "\n",
    "for exp in benchmark.train_stream:\n",
    "    strategy.train(exp)\n",
    "    strategy.eval(benchmark.test_stream)"
   ]
  },
  {
   "cell_type": "code",
   "execution_count": 47,
   "id": "19fa8ab1-332b-4ef7-a8ed-6c8c14244c20",
   "metadata": {},
   "outputs": [
    {
     "name": "stdout",
     "output_type": "stream",
     "text": [
      "Top1_Acc_Exp/eval_phase/test_stream/Task000/Exp000\n",
      "Top1_Acc_Exp/eval_phase/test_stream/Task001/Exp001\n"
     ]
    },
    {
     "data": {
      "text/plain": [
       "Text(0.5, 1.0, 'Experience Accuracy over time - Test stream')"
      ]
     },
     "execution_count": 47,
     "metadata": {},
     "output_type": "execute_result"
    },
    {
     "data": {
      "image/png": "[encoded data removed]",
      "text/plain": [
       "<Figure size 640x480 with 1 Axes>"
      ]
     },
     "metadata": {},
     "output_type": "display_data"
    }
   ],
   "source": [
    "allres = strategy.evaluator.get_all_metrics()\n",
    "for tid in range(2):\n",
    "    mname = f\"Top1_Acc_Exp/eval_phase/test_stream/Task00{tid}/Exp00{tid}\"\n",
    "    print(mname)\n",
    "    plt.plot(allres[mname][0], allres[mname][1], label=f\"T{tid}\")\n",
    "plt.legend()\n",
    "plt.title(\"Experience Accuracy over time - Test stream\")"
   ]
  },
  {
   "cell_type": "markdown",
   "id": "7d78d04e",
   "metadata": {},
   "source": [
    "# Training - Joint\n",
    "\n",
    "Just as a baseline we can also train on all the data at once. This is the standard offline training."
   ]
  },
  {
   "cell_type": "code",
   "execution_count": 7,
   "id": "b3fa681c",
   "metadata": {},
   "outputs": [
    {
     "name": "stdout",
     "output_type": "stream",
     "text": [
      "Files already downloaded and verified\n",
      "Files already downloaded and verified\n",
      "-- >> Start of training phase << --\n",
      "100%|██████████████████████████████████████████████████████████████████████████████████████████████████████████████████████████████████████████████████| 1563/1563 [05:17<00:00,  4.93it/s]\n",
      "Epoch 0 ended.\n",
      "\tLoss_Epoch/train_phase/train_stream/Task000 = 1.6153\n",
      "\tTop1_Acc_Epoch/train_phase/train_stream/Task000 = 0.4167\n",
      "-- >> End of training phase << --\n"
     ]
    },
    {
     "data": {
      "text/plain": [
       "{'Top1_Acc_Epoch/train_phase/train_stream/Task000': 0.41672,\n",
       " 'Loss_Epoch/train_phase/train_stream/Task000': 1.615275440940857}"
      ]
     },
     "execution_count": 7,
     "metadata": {},
     "output_type": "execute_result"
    }
   ],
   "source": [
    "from avalanche.training import JointTraining\n",
    "\n",
    "benchmark = SplitCIFAR10(n_experiences=2, return_task_id=True)\n",
    "\n",
    "device = 'cpu'  # do yourself a favor and use a gpu by setting device='cuda'\n",
    "model = SlimResNet18(nclasses=100)\n",
    "model = model.to(device)\n",
    "optimizer = torch.optim.SGD(model.parameters(), lr=0.01)\n",
    "criterion = torch.nn.CrossEntropyLoss()\n",
    "\n",
    "strategy = JointTraining(\n",
    "    model=model, \n",
    "    optimizer=optimizer, \n",
    "    criterion=criterion, \n",
    "    train_mb_size=32, train_epochs=1\n",
    ")\n",
    "\n",
    "# we train on the entire stream all at once\n",
    "# internally, it's going to concatenate all the batches and train on the joint data\n",
    "strategy.train(benchmark.train_stream)"
   ]
  },
  {
   "cell_type": "code",
   "execution_count": 10,
   "id": "04eefdb5-9e4b-4a6a-83ee-5fb5bc5b2d1d",
   "metadata": {},
   "outputs": [
    {
     "name": "stdout",
     "output_type": "stream",
     "text": [
      "-- >> Start of eval phase << --\n",
      "-- Starting eval on experience 0 (Task 0) from test stream --\n",
      "100%|█████████████████████████████████████████████████████████████████████████████████████████████████████████████████████████████████████████████████| 5000/5000 [00:44<00:00, 113.24it/s]\n",
      "> Eval on experience 0 (Task 0) from test stream ended.\n",
      "\tLoss_Exp/eval_phase/test_stream/Task000/Exp000 = 1.3087\n",
      "\tTop1_Acc_Exp/eval_phase/test_stream/Task000/Exp000 = 0.5196\n",
      "-- Starting eval on experience 1 (Task 1) from test stream --\n",
      "100%|█████████████████████████████████████████████████████████████████████████████████████████████████████████████████████████████████████████████████| 5000/5000 [00:44<00:00, 111.55it/s]\n",
      "> Eval on experience 1 (Task 1) from test stream ended.\n",
      "\tLoss_Exp/eval_phase/test_stream/Task001/Exp001 = 1.3683\n",
      "\tTop1_Acc_Exp/eval_phase/test_stream/Task001/Exp001 = 0.5224\n",
      "-- >> End of eval phase << --\n",
      "\tLoss_Stream/eval_phase/test_stream/Task001 = 1.3385\n",
      "\tTop1_Acc_Stream/eval_phase/test_stream/Task001 = 0.5210\n"
     ]
    },
    {
     "data": {
      "text/plain": [
       "{'Top1_Acc_Epoch/train_phase/train_stream/Task000': 0.41672,\n",
       " 'Loss_Epoch/train_phase/train_stream/Task000': 1.615275440940857,\n",
       " 'Top1_Acc_Exp/eval_phase/test_stream/Task000/Exp000': 0.5196,\n",
       " 'Loss_Exp/eval_phase/test_stream/Task000/Exp000': 1.3087145668918412,\n",
       " 'Top1_Acc_Exp/eval_phase/test_stream/Task001/Exp001': 0.5224,\n",
       " 'Loss_Exp/eval_phase/test_stream/Task001/Exp001': 1.3683192514576483,\n",
       " 'Top1_Acc_Stream/eval_phase/test_stream/Task001': 0.521,\n",
       " 'Loss_Stream/eval_phase/test_stream/Task001': 1.3385169091747449}"
      ]
     },
     "execution_count": 10,
     "metadata": {},
     "output_type": "execute_result"
    }
   ],
   "source": [
    "strategy.eval(benchmark.test_stream)"
   ]
  },
  {
   "attachments": {},
   "cell_type": "markdown",
   "id": "a90ecc12",
   "metadata": {},
   "source": [
    "# Exercises\n",
    "You can implement the algorithms in pure pytorch starting from the `avl_standalone` notebook and the previous notebooks (the finetuning exercises).\n",
    "- Naive finetuning\n",
    "- Multi-head with task labels. You can use Avalanche [MultiHeadClassifier](https://avalanche-api.continualai.org/en/v0.5.0/generated/avalanche.models.MultiHeadClassifier.html#avalanche.models.MultiHeadClassifier) or implement it yourself.\n",
    "- Cumulative training\n",
    "\n",
    "After you have some baselines you can try some simple experiments:\n",
    "- try to measure the forgetting by monitoring how the accuracy on each task is changing over time\n",
    "- can you identify some of the causes of forgetting? Is it:\n",
    "    - a high number of epochs?\n",
    "    - a high learning rate?\n",
    "    - the model architecture (width, depth, batch-norm, ...)?\n",
    "    - the type of drift?\n",
    "- try to repeat the experiments with a new type of drift. Each experience contains the same classes but with new instances. For example, you can split CIFAR10 in a class-balanced way or use [PermutedMNIST](https://avalanche-api.continualai.org/en/v0.5.0/generated/avalanche.benchmarks.classic.PermutedMNIST.html#avalanche.benchmarks.classic.PermutedMNIST), which permutes the images differently at every step (you need to use a feedforward net in this case). \n",
    "- what happens if you revisit the stream multiple times? you can try to repeat the stream multiple times in the multi-head finetuning example"
   ]
  },
  {
   "cell_type": "code",
   "execution_count": null,
   "id": "ba5d8024-9ae0-4a45-9c57-fb53ef45641d",
   "metadata": {},
   "outputs": [],
   "source": []
  }
 ],
 "metadata": {
  "kernelspec": {
   "display_name": "Python 3 (ipykernel)",
   "language": "python",
   "name": "python3"
  },
  "language_info": {
   "codemirror_mode": {
    "name": "ipython",
    "version": 3
   },
   "file_extension": ".py",
   "mimetype": "text/x-python",
   "name": "python",
   "nbconvert_exporter": "python",
   "pygments_lexer": "ipython3",
   "version": "3.11.0"
  }
 },
 "nbformat": 4,
 "nbformat_minor": 5
}
